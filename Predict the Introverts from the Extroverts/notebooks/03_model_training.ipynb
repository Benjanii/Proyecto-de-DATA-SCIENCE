{
 "cells": [
  {
   "cell_type": "code",
   "execution_count": 6,
   "id": "fd3471c1",
   "metadata": {},
   "outputs": [],
   "source": [
    "import os, sys\n",
    "import lightgbm as lgb\n",
    "import numpy as np\n",
    "import matplotlib.pyplot as plt\n",
    "import seaborn as sns\n",
    "notebooks_dir = os.getcwd()\n",
    "project_root = os.path.abspath(os.path.join(notebooks_dir, os.pardir))\n",
    "if project_root not in sys.path:\n",
    "    sys.path.insert(0, project_root)\n",
    "\n",
    "from src.data      import load_data\n",
    "from src.utils     import set_seed\n",
    "from sklearn.model_selection import StratifiedKFold\n",
    "from sklearn.metrics import roc_auc_score\n",
    "set_seed(42)\n",
    "sns.set(style=\"whitegrid\")\n"
   ]
  },
  {
   "cell_type": "code",
   "execution_count": 7,
   "id": "7d82611d",
   "metadata": {},
   "outputs": [
    {
     "name": "stdout",
     "output_type": "stream",
     "text": [
      "X shape: (18524, 7)\n",
      "y distribution:\n",
      " target\n",
      "0    0.739527\n",
      "1    0.260473\n",
      "Name: proportion, dtype: float64\n"
     ]
    }
   ],
   "source": [
    "train = load_data('../data/processed/train_scaled.csv')\n",
    "train['target'] = train['Personality'].map({'Extrovert': 0, 'Introvert': 1})\n",
    "\n",
    "x = train.drop(columns=['id','Personality','target'])\n",
    "y = train['target']\n",
    "\n",
    "print(\"X shape:\", x.shape)\n",
    "print(\"y distribution:\\n\", y.value_counts(normalize=True))\n"
   ]
  },
  {
   "cell_type": "code",
   "execution_count": 8,
   "id": "bd6f9742",
   "metadata": {},
   "outputs": [],
   "source": [
    "params = {\n",
    "    'objective': 'binary',\n",
    "    'metric': 'auc',\n",
    "    'learning_rate': 0.05,\n",
    "    'num_leaves': 31,\n",
    "    'verbose': -1,\n",
    "    'seed': 42\n",
    "}\n"
   ]
  },
  {
   "cell_type": "code",
   "execution_count": 9,
   "id": "1d6477c8",
   "metadata": {},
   "outputs": [
    {
     "name": "stdout",
     "output_type": "stream",
     "text": [
      "Training until validation scores don't improve for 50 rounds\n",
      "Early stopping, best iteration is:\n",
      "[42]\tvalid_0's auc: 0.972125\n",
      "Fold 0 AUC: 0.9721\n",
      "Training until validation scores don't improve for 50 rounds\n",
      "[100]\tvalid_0's auc: 0.96719\n",
      "Early stopping, best iteration is:\n",
      "[69]\tvalid_0's auc: 0.968827\n",
      "Fold 1 AUC: 0.9688\n",
      "Training until validation scores don't improve for 50 rounds\n",
      "Early stopping, best iteration is:\n",
      "[19]\tvalid_0's auc: 0.965517\n",
      "Fold 2 AUC: 0.9655\n",
      "Training until validation scores don't improve for 50 rounds\n",
      "[100]\tvalid_0's auc: 0.9693\n",
      "Early stopping, best iteration is:\n",
      "[56]\tvalid_0's auc: 0.969557\n",
      "Fold 3 AUC: 0.9696\n",
      "Training until validation scores don't improve for 50 rounds\n",
      "[100]\tvalid_0's auc: 0.973508\n",
      "[200]\tvalid_0's auc: 0.972946\n",
      "Early stopping, best iteration is:\n",
      "[157]\tvalid_0's auc: 0.97376\n",
      "Fold 4 AUC: 0.9738\n",
      "OOF ROC AUC: 0.9662\n"
     ]
    }
   ],
   "source": [
    "models    = []\n",
    "oof_preds = np.zeros(len(x))\n",
    "\n",
    "skf = StratifiedKFold(n_splits=5, shuffle=True, random_state=42)\n",
    "for fold, (tr_idx, val_idx) in enumerate(skf.split(x, y)):\n",
    "    X_tr, X_val = x.iloc[tr_idx], x.iloc[val_idx]\n",
    "    y_tr, y_val = y.iloc[tr_idx], y.iloc[val_idx]\n",
    "    dtrain = lgb.Dataset(X_tr, label=y_tr)\n",
    "    dval   = lgb.Dataset(X_val, label=y_val)\n",
    "    callbacks = [\n",
    "        lgb.early_stopping(stopping_rounds=50),\n",
    "        lgb.log_evaluation(period=100)\n",
    "    ]\n",
    "\n",
    "    model = lgb.train(\n",
    "        params,\n",
    "        dtrain,\n",
    "        num_boost_round=1000,\n",
    "        valid_sets=[dval],\n",
    "        callbacks=callbacks\n",
    "    )\n",
    "\n",
    "    oof_preds[val_idx] = model.predict(X_val)\n",
    "    fold_auc = roc_auc_score(y_val, oof_preds[val_idx])\n",
    "    print(f'Fold {fold} AUC: {fold_auc:.4f}')\n",
    "\n",
    "    models.append(model)\n",
    "\n",
    "oof_auc = roc_auc_score(y, oof_preds)\n",
    "print(f'OOF ROC AUC: {oof_auc:.4f}')\n"
   ]
  },
  {
   "cell_type": "code",
   "execution_count": 10,
   "id": "f20993f0",
   "metadata": {},
   "outputs": [
    {
     "name": "stdout",
     "output_type": "stream",
     "text": [
      "Modelos y OOF guardados en ../models/\n"
     ]
    }
   ],
   "source": [
    "os.makedirs('../models', exist_ok=True)\n",
    "np.save('../models/oof_preds.npy', oof_preds)\n",
    "\n",
    "for i, m in enumerate(models):\n",
    "    m.save_model(f'../models/lgbm_fold{i}.txt')\n",
    "\n",
    "print(\"Modelos y OOF guardados en ../models/\")"
   ]
  }
 ],
 "metadata": {
  "kernelspec": {
   "display_name": "Python 3",
   "language": "python",
   "name": "python3"
  },
  "language_info": {
   "codemirror_mode": {
    "name": "ipython",
    "version": 3
   },
   "file_extension": ".py",
   "mimetype": "text/x-python",
   "name": "python",
   "nbconvert_exporter": "python",
   "pygments_lexer": "ipython3",
   "version": "3.12.1"
  }
 },
 "nbformat": 4,
 "nbformat_minor": 5
}
