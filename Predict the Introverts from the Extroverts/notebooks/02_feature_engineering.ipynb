{
 "cells": [
  {
   "cell_type": "code",
   "execution_count": 1,
   "id": "9b5308a1",
   "metadata": {},
   "outputs": [],
   "source": [
    "import os, sys\n",
    "import seaborn as sns\n",
    "notebooks_dir = os.getcwd()\n",
    "project_root = os.path.abspath(os.path.join(notebooks_dir, os.pardir))\n",
    "if project_root not in sys.path:\n",
    "    sys.path.insert(0, project_root)\n",
    "\n",
    "from src.data      import load_data, save_data\n",
    "from src.utils     import set_seed\n",
    "from sklearn.preprocessing import StandardScaler\n",
    "set_seed(42)\n",
    "sns.set(style=\"whitegrid\")"
   ]
  },
  {
   "cell_type": "code",
   "execution_count": 2,
   "id": "ae125269",
   "metadata": {},
   "outputs": [],
   "source": [
    "# Carga de datos\n",
    "train_raw = load_data('../data/raw/train.csv')\n",
    "test_raw  = load_data('../data/raw/test.csv')"
   ]
  },
  {
   "cell_type": "code",
   "execution_count": 3,
   "id": "319881bd",
   "metadata": {},
   "outputs": [],
   "source": [
    "numeric_cols = [c for c in train_raw.columns if c not in ['id','Personality']]"
   ]
  },
  {
   "cell_type": "code",
   "execution_count": 4,
   "id": "af132aa3",
   "metadata": {},
   "outputs": [],
   "source": [
    "binary_cols = ['Stage_fear', 'Drained_after_socializing']\n",
    "for col in binary_cols:\n",
    "    train_raw[col] = train_raw[col].map({'Yes': 1, 'No': 0})\n",
    "    test_raw[col]  = test_raw[col].map({'Yes': 1, 'No': 0})\n",
    "\n",
    "numeric_cols = [c for c in train_raw.columns if c not in ['id','Personality']]\n",
    "\n",
    "scaler     = StandardScaler()\n",
    "train_proc = train_raw.copy()\n",
    "test_proc  = test_raw.copy()\n",
    "\n",
    "train_proc[numeric_cols] = scaler.fit_transform(train_proc[numeric_cols])\n",
    "test_proc[numeric_cols]  = scaler.transform(test_proc[numeric_cols])\n"
   ]
  },
  {
   "cell_type": "code",
   "execution_count": 5,
   "id": "fa942b96",
   "metadata": {},
   "outputs": [
    {
     "name": "stdout",
     "output_type": "stream",
     "text": [
      "Datos procesados guardados en data/processed/\n"
     ]
    }
   ],
   "source": [
    "# Guarda procesados\n",
    "save_data(train_proc, '../data/processed/train_scaled.csv')\n",
    "save_data(test_proc,  '../data/processed/test_scaled.csv')\n",
    "print(\"Datos procesados guardados en data/processed/\")"
   ]
  }
 ],
 "metadata": {
  "kernelspec": {
   "display_name": "Python 3",
   "language": "python",
   "name": "python3"
  },
  "language_info": {
   "codemirror_mode": {
    "name": "ipython",
    "version": 3
   },
   "file_extension": ".py",
   "mimetype": "text/x-python",
   "name": "python",
   "nbconvert_exporter": "python",
   "pygments_lexer": "ipython3",
   "version": "3.12.1"
  }
 },
 "nbformat": 4,
 "nbformat_minor": 5
}
