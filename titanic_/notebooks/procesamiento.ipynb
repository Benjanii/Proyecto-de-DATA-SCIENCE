{
 "cells": [
  {
   "cell_type": "code",
   "execution_count": 6,
   "id": "0fa0b9e4",
   "metadata": {},
   "outputs": [
    {
     "name": "stdout",
     "output_type": "stream",
     "text": [
      "Guardado preprocessed.pkl con x, y, X_test y test\n",
      "Guardado data/titanic_preprocessed_sample.csv (100 filas)\n"
     ]
    },
    {
     "name": "stderr",
     "output_type": "stream",
     "text": [
      "C:\\Users\\56997\\AppData\\Local\\Temp\\ipykernel_13808\\881516846.py:13: FutureWarning: A value is trying to be set on a copy of a DataFrame or Series through chained assignment using an inplace method.\n",
      "The behavior will change in pandas 3.0. This inplace method will never work because the intermediate object on which we are setting values always behaves as a copy.\n",
      "\n",
      "For example, when doing 'df[col].method(value, inplace=True)', try using 'df.method({col: value}, inplace=True)' or df[col] = df[col].method(value) instead, to perform the operation inplace on the original object.\n",
      "\n",
      "\n",
      "  all_data['Embarked'].fillna(all_data['Embarked'].mode()[0], inplace=True)\n",
      "C:\\Users\\56997\\AppData\\Local\\Temp\\ipykernel_13808\\881516846.py:20: FutureWarning: A value is trying to be set on a copy of a DataFrame or Series through chained assignment using an inplace method.\n",
      "The behavior will change in pandas 3.0. This inplace method will never work because the intermediate object on which we are setting values always behaves as a copy.\n",
      "\n",
      "For example, when doing 'df[col].method(value, inplace=True)', try using 'df.method({col: value}, inplace=True)' or df[col] = df[col].method(value) instead, to perform the operation inplace on the original object.\n",
      "\n",
      "\n",
      "  all_data['Fare'].fillna(all_data['Fare'].median(), inplace=True)\n"
     ]
    }
   ],
   "source": [
    "import pandas as pd\n",
    "import numpy as np\n",
    "import os\n",
    "import pickle\n",
    "\n",
    "train = pd.read_csv('../data/train.csv')\n",
    "test  = pd.read_csv('../data/test.csv')\n",
    "\n",
    "train_len = len(train)\n",
    "all_data = pd.concat([train, test], sort=False).reset_index(drop=True)\n",
    "\n",
    "# Embarked → moda\n",
    "all_data['Embarked'].fillna(all_data['Embarked'].mode()[0], inplace=True)\n",
    "\n",
    "# Age → mediana por Pclass y Sex (uso transform para mantener el índice)\n",
    "all_data['Age'] = all_data.groupby(['Pclass','Sex'])['Age'] \\\n",
    "                          .transform(lambda grp: grp.fillna(grp.median()))\n",
    "\n",
    "# Fare → mediana\n",
    "all_data['Fare'].fillna(all_data['Fare'].median(), inplace=True)\n",
    "\n",
    "\n",
    "all_data['Cabin'] = all_data['Cabin'].fillna('Missing')\n",
    "all_data['Deck']  = all_data['Cabin'].str[0]\n",
    "\n",
    "# FamilySize e IsAlone\n",
    "all_data['FamilySize'] = all_data['SibSp'] + all_data['Parch'] + 1\n",
    "all_data['IsAlone']    = (all_data['FamilySize']==1).astype(int)\n",
    "# Title desde Name\n",
    "all_data['Title'] = all_data['Name'].str.extract(r',\\s*([^\\.]+)\\.', expand=False)\n",
    "# Simplificar rare titles\n",
    "rare_titles = ['Lady','Countess','Capt','Col','Don','Dr','Major','Rev','Sir','Jonkheer','Dona']\n",
    "all_data['Title'] = all_data['Title'].replace(rare_titles, 'Rare')\n",
    "\n",
    "all_data = pd.get_dummies(all_data,\n",
    "                          columns=['Sex','Embarked','Deck','Title'],\n",
    "                          drop_first=True)\n",
    "\n",
    "x = all_data.iloc[:train_len].drop(['PassengerId','Survived','Name','Ticket','Cabin'], axis=1)\n",
    "y = train['Survived']\n",
    "X_test = all_data.iloc[train_len:].drop(['PassengerId','Survived','Name','Ticket','Cabin'], axis=1)\n",
    "test = pd.read_csv('../data/test.csv')\n",
    "\n",
    "os.makedirs('models', exist_ok=True)\n",
    "\n",
    "with open('models/preprocessed.pkl','wb') as f:\n",
    "    pickle.dump((x, y, X_test, test), f)\n",
    "print(\"Guardado preprocessed.pkl con x, y, X_test y test\")\n",
    "\n",
    "df_pre = x.copy()\n",
    "df_pre['Survived'] = y\n",
    "\n",
    "df_pre.sample(100, random_state=42) \\\n",
    "      .to_csv('../data/titanic_preprocessed_sample.csv', index=False)\n",
    "\n",
    "print(\"Guardado data/titanic_preprocessed_sample.csv (100 filas)\")"
   ]
  }
 ],
 "metadata": {
  "kernelspec": {
   "display_name": "base",
   "language": "python",
   "name": "python3"
  },
  "language_info": {
   "codemirror_mode": {
    "name": "ipython",
    "version": 3
   },
   "file_extension": ".py",
   "mimetype": "text/x-python",
   "name": "python",
   "nbconvert_exporter": "python",
   "pygments_lexer": "ipython3",
   "version": "3.12.7"
  }
 },
 "nbformat": 4,
 "nbformat_minor": 5
}
