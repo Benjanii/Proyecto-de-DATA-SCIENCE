{
 "cells": [
  {
   "cell_type": "code",
   "execution_count": 2,
   "id": "22e9aab9",
   "metadata": {},
   "outputs": [
    {
     "name": "stdout",
     "output_type": "stream",
     "text": [
      "x shape: (891, 26), y shape: (891,), X_test shape: (418, 26), test shape: (418, 11)\n",
      "Mejores parámetros RF: {'max_depth': 4, 'n_estimators': 200}\n",
      "Mejor score CV:    0.8329065300896288\n",
      "Accuracy en validación: 0.7932960893854749\n",
      "Guardado submission/titanic_submission.csv\n"
     ]
    }
   ],
   "source": [
    "from sklearn.model_selection import train_test_split, GridSearchCV, StratifiedKFold\n",
    "from sklearn.ensemble import RandomForestClassifier\n",
    "from sklearn.metrics import accuracy_score\n",
    "import pandas as pd\n",
    "import pickle\n",
    "\n",
    "with open('models/preprocessed.pkl','rb') as f:\n",
    "    x, y, X_test, test = pickle.load(f)\n",
    "\n",
    "print(f\"x shape: {x.shape}, y shape: {y.shape}, X_test shape: {X_test.shape}, test shape: {test.shape}\")\n",
    "\n",
    "# División en entrenamiento y validación (20% validación, estratificado)\n",
    "X_train, X_val, y_train, y_val = train_test_split(\n",
    "    x, y,\n",
    "    test_size=0.2,\n",
    "    stratify=y,\n",
    "    random_state=42\n",
    ")\n",
    "\n",
    "rf = RandomForestClassifier(random_state=42)\n",
    "param_grid = {\n",
    "    'n_estimators': [100, 200],\n",
    "    'max_depth':    [4, 6, 8]\n",
    "}\n",
    "\n",
    "cv = StratifiedKFold(n_splits=5, shuffle=True, random_state=42)\n",
    "grid_rf = GridSearchCV(\n",
    "    estimator=rf,\n",
    "    param_grid=param_grid,\n",
    "    cv=cv,\n",
    "    scoring='accuracy',\n",
    "    n_jobs=-1\n",
    ")\n",
    "\n",
    "grid_rf.fit(X_train, y_train)\n",
    "\n",
    "print('Mejores parámetros RF:', grid_rf.best_params_)\n",
    "print('Mejor score CV:   ', grid_rf.best_score_)\n",
    "\n",
    "best_rf = grid_rf.best_estimator_\n",
    "y_pred = best_rf.predict(X_val)\n",
    "\n",
    "print('Accuracy en validación:', accuracy_score(y_val, y_pred))\n",
    "\n",
    "best_rf.fit(x, y)\n",
    "\n",
    "# Predicción final sobre el test set\n",
    "preds = best_rf.predict(X_test)\n",
    "\n",
    "\n",
    "submission = pd.DataFrame({\n",
    "    'PassengerId': test['PassengerId'],\n",
    "    'Survived':    preds\n",
    "})\n",
    "\n",
    "submission.to_csv('../submission/titanic_submission.csv', index=False)\n",
    "print(\"Guardado submission/titanic_submission.csv\")"
   ]
  }
 ],
 "metadata": {
  "kernelspec": {
   "display_name": "base",
   "language": "python",
   "name": "python3"
  },
  "language_info": {
   "codemirror_mode": {
    "name": "ipython",
    "version": 3
   },
   "file_extension": ".py",
   "mimetype": "text/x-python",
   "name": "python",
   "nbconvert_exporter": "python",
   "pygments_lexer": "ipython3",
   "version": "3.12.7"
  }
 },
 "nbformat": 4,
 "nbformat_minor": 5
}
