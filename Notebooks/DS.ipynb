{
 "cells": [
  {
   "cell_type": "code",
   "execution_count": null,
   "metadata": {},
   "outputs": [],
   "source": [
    "# Permite ajustar la anchura de la parte útil de la libreta (reduce los márgenes)\n",
    "from IPython.core.display import display, HTML\n",
    "display(HTML(\"<style>.container{ width:98% }</style>\"))"
   ]
  },
  {
   "cell_type": "markdown",
   "metadata": {},
   "source": [
    "<div style=\"text-align: right\"> <font size=5>\n",
    "    <a href=\"#indice\"><i class=\"fa fa-arrow-circle-up\" aria-hidden=\"true\" style=\"color:#004D7F\"></i></a>\n",
    "</font></div>\n",
    "\n",
    "---"
   ]
  },
  {
   "cell_type": "markdown",
   "metadata": {},
   "source": [
    "### Strings"
   ]
  },
  {
   "cell_type": "code",
   "execution_count": null,
   "metadata": {
    "scrolled": false
   },
   "outputs": [],
   "source": [
    "# Guardar en una variables un string e imprimir el caracter en la posición 0, longitud y el string completo\n",
    "data = \"Hello world\"\n",
    "print (data[0]) # Imprime el primer elemento de la estructura 'data' \n",
    "print (len(data)) # Muestra la cantidad total de elementos en 'data' \n",
    "print (data) # Imprime la representación textual completa de la estructura \n"
   ]
  },
  {
   "cell_type": "code",
   "execution_count": null,
   "metadata": {},
   "outputs": [],
   "source": []
  },
  {
   "cell_type": "markdown",
   "metadata": {},
   "source": [
    "### Números"
   ]
  },
  {
   "cell_type": "code",
   "execution_count": null,
   "metadata": {},
   "outputs": [],
   "source": [
    "# Guardar un número, imprimirlo, cambiarle el valor e imprimirlo nuevamente\n",
    "value1 = 123.1\n",
    "value2 = 10\n",
    "print(value1)\n",
    "print(value2)"
   ]
  },
  {
   "cell_type": "markdown",
   "metadata": {},
   "source": [
    "### Booleanos"
   ]
  },
  {
   "cell_type": "code",
   "execution_count": null,
   "metadata": {},
   "outputs": [],
   "source": [
    "# Guardar los dos valores booleanos en dos variables diferentes e imprimirlos\n",
    "a = True\n",
    "b = False\n",
    "print(b, a)"
   ]
  },
  {
   "cell_type": "markdown",
   "metadata": {},
   "source": [
    "### Asignación Múltiple"
   ]
  },
  {
   "cell_type": "code",
   "execution_count": null,
   "metadata": {},
   "outputs": [],
   "source": [
    "# Asignar 3 números a 3 variables e imprimir\n",
    "a, b, c = 1, 2, 3\n",
    "print(c, b, a)"
   ]
  },
  {
   "cell_type": "markdown",
   "metadata": {},
   "source": [
    "### Valor None"
   ]
  },
  {
   "cell_type": "code",
   "execution_count": null,
   "metadata": {
    "scrolled": true
   },
   "outputs": [],
   "source": [
    "# Guardar un valor None e imprimirlo\n",
    "a = None\n",
    "print(a)"
   ]
  },
  {
   "cell_type": "markdown",
   "metadata": {},
   "source": [
    "### Condicional _If-Else_\n"
   ]
  },
  {
   "cell_type": "code",
   "execution_count": null,
   "metadata": {},
   "outputs": [],
   "source": [
    "# Guardar un valor y verificar si es 99, mayor que 200 y ninguno de los dos\n",
    "value = 40\n",
    "if value == 99:\n",
    "    print('That is fast')\n",
    "elif value > 200:\n",
    "    print('That is too fast')\n",
    "else:\n",
    "    print('That is safe')"
   ]
  },
  {
   "cell_type": "markdown",
   "metadata": {},
   "source": [
    "### _For-Loops_"
   ]
  },
  {
   "cell_type": "code",
   "execution_count": null,
   "metadata": {},
   "outputs": [],
   "source": [
    "# Imprimir valores del 1 al 10 e imprimirlos con for\n",
    "for i in range(11): # [0,10)\n",
    "    print(i)"
   ]
  },
  {
   "cell_type": "markdown",
   "metadata": {},
   "source": [
    "### _While-Loops_\n",
    "\n"
   ]
  },
  {
   "cell_type": "code",
   "execution_count": null,
   "metadata": {},
   "outputs": [],
   "source": [
    "# Imprimir valores del 1 al 10 e imprimirlos con while\n",
    "i = 0\n",
    "while i < 11:\n",
    "    print(i)\n",
    "    i +=1 # i=i+1"
   ]
  },
  {
   "cell_type": "markdown",
   "metadata": {},
   "source": [
    "### Tuplas"
   ]
  },
  {
   "cell_type": "markdown",
   "metadata": {},
   "source": [
    "Las tuplas son colecciones de artículos de solo lectura."
   ]
  },
  {
   "cell_type": "code",
   "execution_count": null,
   "metadata": {},
   "outputs": [],
   "source": [
    "# Guardar en una tupla 3 valores e imprimir\n",
    "a = (1, 2, 3, 4)\n",
    "print(a[2])"
   ]
  },
  {
   "cell_type": "markdown",
   "metadata": {},
   "source": [
    "### Listas"
   ]
  },
  {
   "cell_type": "markdown",
   "metadata": {},
   "source": [
    "Las listas usan la notación de corchetes y pueden indexarse usando la notación de matriz. Tenga en cuenta que estamos utilizando algunas funciones simples similares a printf para combinar cadenas y variables al imprimir."
   ]
  },
  {
   "cell_type": "code",
   "execution_count": null,
   "metadata": {},
   "outputs": [],
   "source": [
    "# Hacer una lista con tres valores, imprimir el primero, añadir un cuarto e imprimir la longitudo y los elementos\n",
    "mylist = [1, 2, 3]\n",
    "print(f\"Zeroth Value: {mylist[0]}\")\n",
    "mylist.append(4)\n",
    "print(mylist)\n",
    "mylist.pop(3)\n",
    "print(mylist)\n",
    "mylist.append(4)\n",
    "print(mylist)\n",
    "print (f\"List Length: {mylist[3]}\")\n",
    "mylist\n",
    "for i in mylist:\n",
    "    print(i)"
   ]
  },
  {
   "cell_type": "markdown",
   "metadata": {},
   "source": [
    "### Diccionarios"
   ]
  },
  {
   "cell_type": "markdown",
   "metadata": {},
   "source": [
    "Los diccionarios son asignaciones de nombres a valores, como pares clave-valor. Tenga en cuenta el uso del corchete y las anotaciones de dos puntos al definir el diccionario."
   ]
  },
  {
   "cell_type": "code",
   "execution_count": null,
   "metadata": {},
   "outputs": [],
   "source": [
    "# Crear un diccionario con 3 valores e imprimir el primero y cambiarle el valor\n",
    "# Mostrar las claves y valores del diccionario y, finalmente, imprimir todos los valores con un bucle\n",
    "mydict = {'a':1, 'b':2, 'c': 3}\n",
    "print(f\"A value: {mydict['a']}\")"
   ]
  },
  {
   "cell_type": "code",
   "execution_count": null,
   "metadata": {},
   "outputs": [],
   "source": [
    "mydict = {'a':1, 'b':2, 'c': 3}\n",
    "print(f\"A value: {mydict['a']}\")\n",
    "mydict['a'] = 11\n",
    "print(f\"A value: {mydict['a']}\")\n",
    "print(f\"Keys: {mydict.keys()}\")\n",
    "print(f\"Values: {mydict.values()}\")\n",
    "for key in mydict.keys():\n",
    "    print(mydict[key])  "
   ]
  },
  {
   "cell_type": "code",
   "execution_count": null,
   "metadata": {},
   "outputs": [],
   "source": [
    "md = {'a':1, 'b':2, 'c': 3}\n",
    "md['a']= 11\n",
    "md.update({'g':11})\n",
    "print (md.keys())\n",
    "print (md.values())\n",
    "for k in md.values():\n",
    "    print(k)"
   ]
  },
  {
   "cell_type": "code",
   "execution_count": null,
   "metadata": {},
   "outputs": [],
   "source": []
  },
  {
   "cell_type": "markdown",
   "metadata": {},
   "source": [
    "### Funciones"
   ]
  },
  {
   "cell_type": "markdown",
   "metadata": {},
   "source": [
    "El mayor problema con Python es el espacio en blanco. Asegúrese de tener una nueva línea vacía después del código sangrado. El siguiente ejemplo define una nueva función para calcular la suma de dos valores y llama a la función con dos argumentos."
   ]
  },
  {
   "cell_type": "code",
   "execution_count": null,
   "metadata": {},
   "outputs": [],
   "source": [
    "# Realizar una fución que sume dos valores\n",
    "def mysum(x, y):\n",
    "    return x+y\n",
    "\n",
    "result = mysum(3,3)\n",
    "print(result)"
   ]
  },
  {
   "cell_type": "markdown",
   "metadata": {},
   "source": [
    "<div style=\"text-align: right\"> <font size=5>\n",
    "    <a href=\"#indice\"><i class=\"fa fa-arrow-circle-up\" aria-hidden=\"true\" style=\"color:#004D7F\"></i></a>\n",
    "</font></div>\n",
    "\n",
    "---"
   ]
  },
  {
   "cell_type": "markdown",
   "metadata": {},
   "source": [
    "NumPy proporciona las estructuras y operaciones de datos básicos para SciPy. Estas son matrices (ndarrays) que son eficientes para definir y manipular."
   ]
  },
  {
   "cell_type": "markdown",
   "metadata": {},
   "source": [
    "### Crear Array\n",
    "\n"
   ]
  },
  {
   "cell_type": "code",
   "execution_count": null,
   "metadata": {},
   "outputs": [],
   "source": [
    "# Crear un array e imprimir sus valores y tamaño\n",
    "import numpy as np\n",
    "\n",
    "ml = [1,2,3,4,5,6]\n",
    "mr= np.array(ml) #transforma la lista en un array\n",
    "print(mr)\n",
    "print(mr.shape) #Imprime su tamaño"
   ]
  },
  {
   "cell_type": "code",
   "execution_count": null,
   "metadata": {},
   "outputs": [],
   "source": [
    "\n"
   ]
  },
  {
   "cell_type": "markdown",
   "metadata": {},
   "source": [
    "### Acceso a datos\n",
    "\n",
    "La notación de matriz y los rangos se pueden usar para acceder de manera eficiente a los datos en una matriz NumPy."
   ]
  },
  {
   "cell_type": "code",
   "execution_count": null,
   "metadata": {
    "scrolled": true
   },
   "outputs": [],
   "source": [
    "# Hacer una mariz 2x3 e imprimir la primera y última lista\n",
    "# Luego imprimir un elemento concreto y los valores de la columna 3\n",
    "'''[[1 2 3]\n",
    " [3 4 5]]\n",
    "(2, 3)\n",
    "First row: [1 2 3]\n",
    "Last row: [3 4 5]\n",
    "Specific row and col: 3\n",
    "Whole col: [3 5]'''\n",
    "\n",
    "import numpy as np\n",
    "\n",
    "m1= np.array([[1,2,3], [4,5,6]])\n",
    "print(m1)\n",
    "print(f\"First Row {m1[0]}\")\n",
    "print(f\"Last Row {m1[1]}\")\n",
    "print(m1[0,1])\n",
    "print(\"\\nValores de la tercera columna:\", m1[:, 2])\n"
   ]
  },
  {
   "cell_type": "code",
   "execution_count": null,
   "metadata": {},
   "outputs": [],
   "source": [
    "import numpy as np\n",
    "mylist = [[1,2,3], [4,5,6]]\n",
    "myarray = np.array(mylist)\n",
    "print(myarray)\n",
    "print(myarray.shape)\n",
    "print(f\"First row: {myarray[0]}\")\n",
    "print(f\"Last row: {myarray[-1]}\")\n",
    "print(f\"Specific row and col: {myarray[0, 2]}\")\n",
    "print(f\"Whole col: {myarray[ : , 2]}\")"
   ]
  },
  {
   "cell_type": "markdown",
   "metadata": {},
   "source": [
    "### Operadores aritméticos"
   ]
  },
  {
   "cell_type": "code",
   "execution_count": null,
   "metadata": {},
   "outputs": [],
   "source": [
    "# crear dos vectores y sumarlos y multiplicarlos\n",
    "import numpy as np\n",
    "myarray1 = np.array([2, 2, 2])\n",
    "myarray2 = np.array([3, 3, 3])\n",
    "print(f\"Addition: {myarray1 + myarray2}\")\n",
    "print(f\"Multiplication: {myarray1 * myarray2}\")"
   ]
  },
  {
   "cell_type": "markdown",
   "metadata": {},
   "source": [
    "### Gráficos lineales"
   ]
  },
  {
   "cell_type": "code",
   "execution_count": null,
   "metadata": {},
   "outputs": [],
   "source": [
    "# Crear un vector y representar un gráfico linea con sus valores\n",
    "import matplotlib.pyplot as plt\n",
    "import numpy as np\n",
    "myarray = np.array([1,2,3])\n",
    "plt.plot(myarray)\n",
    "plt.xlabel(\"Eje X\")\n",
    "plt.ylabel(\"Eje Y\")\n",
    "plt.show()"
   ]
  },
  {
   "cell_type": "code",
   "execution_count": null,
   "metadata": {},
   "outputs": [],
   "source": []
  },
  {
   "cell_type": "markdown",
   "metadata": {},
   "source": [
    "### Gráficos de dispersión"
   ]
  },
  {
   "cell_type": "markdown",
   "metadata": {},
   "source": [
    "A continuación se muestra un ejemplo simple de crear un diagrama de dispersión a partir de datos bidimensionales."
   ]
  },
  {
   "cell_type": "code",
   "execution_count": 10,
   "metadata": {
    "scrolled": true
   },
   "outputs": [
    {
     "data": {
      "image/png": "[encoded data removed]",
      "text/plain": [
       "<Figure size 640x480 with 1 Axes>"
      ]
     },
     "metadata": {},
     "output_type": "display_data"
    }
   ],
   "source": [
    "# Hcer dos vectores y representar los puntos en un gráfico de dispersión\n",
    "import matplotlib.pyplot as plt\n",
    "import numpy as np\n",
    "x = np.array([1,2,3])\n",
    "y = np.array([2,4,6])\n",
    "plt.scatter(x, y)\n",
    "plt.xlabel(\"Eje X\")\n",
    "plt.ylabel(\"Eje Y\")\n",
    "plt.show()"
   ]
  },
  {
   "cell_type": "markdown",
   "metadata": {},
   "source": [
    "<a id=\"section5\"></a>\n",
    "# <font color=\"#004D7F\"> 5.Pandas</font>"
   ]
  },
  {
   "cell_type": "markdown",
   "metadata": {},
   "source": [
    "Pandas proporciona estructuras de datos y funcionalidad para manipular y analizar datos rápidamente. La clave para comprender Pandas para el aprendizaje automático es comprender sus estructuras de datos básicas: Series y DataFrame."
   ]
  },
  {
   "cell_type": "markdown",
   "metadata": {},
   "source": [
    "### Series\n",
    "\n",
    "Una serie es una array unidimensional donde se pueden etiquetar las filas y columnas. "
   ]
  },
  {
   "cell_type": "code",
   "execution_count": null,
   "metadata": {},
   "outputs": [],
   "source": [
    "# Realizar una Serie Pandas e imprimirla\n",
    "import numpy as np\n",
    "import pandas as pd\n",
    "\n",
    "myarray=np.array([1,2,3])\n",
    "rowname=['a','b','c']\n",
    "myserie=pd.Series(myarray, index=rowname)\n",
    "print(myserie)\n",
    "\n"
   ]
  },
  {
   "cell_type": "markdown",
   "metadata": {},
   "source": [
    "Puede acceder a los datos en una serie como una array NumPy y como un diccionario"
   ]
  },
  {
   "cell_type": "code",
   "execution_count": null,
   "metadata": {},
   "outputs": [],
   "source": [
    "#Imprimir por posicíon y por índice\n",
    "print(myserie[1])\n",
    "print(myserie['b'])"
   ]
  },
  {
   "cell_type": "markdown",
   "metadata": {},
   "source": [
    "### Dataframe\n",
    "\n",
    "Un Dataframe es un array multidimensional donde se pueden etiquetar las filas y las columnas"
   ]
  },
  {
   "cell_type": "code",
   "execution_count": null,
   "metadata": {},
   "outputs": [],
   "source": [
    "#Crear un Dataframe e imprimirlo\n",
    "import pandas as pd\n",
    "import numpy as np\n",
    "\n",
    "myarray = np.array([[1,2,3],[4,5,6]])\n",
    "rowname = ['a','b']\n",
    "colnames = ['one', 'two', 'three']\n",
    "dt_my=pd.DataFrame(myarray, index=rowname, columns=colnames)\n",
    "dt_my"
   ]
  },
  {
   "cell_type": "markdown",
   "metadata": {},
   "source": [
    "Los datos pueden indexarse usando nombres de columna"
   ]
  },
  {
   "cell_type": "code",
   "execution_count": null,
   "metadata": {
    "scrolled": true
   },
   "outputs": [],
   "source": [
    "# Imprimir por el índice\n",
    "print(f\"1st method: {df_my['one']}\")\n",
    "print()\n",
    "print(f\"2nd method: {df_my.one}\")"
   ]
  },
  {
   "cell_type": "code",
   "execution_count": null,
   "metadata": {},
   "outputs": [],
   "source": [
    "from matplotlib import pyplot as plt\n",
    "import numpy as np\n",
    "\n",
    "timeit = np.random.normal(size=1)\n",
    "print(timeit)\n",
    "x = np.array ([1, 2, 3, 4, 5, 6, 7, 8, 9, 10])\n",
    "y = np.array([1, 4, 9, 16, 25, 36, 49, 64, 81, 100])\n",
    "print (y*x)\n",
    "plt.xlabel(\"Eje X\")\n",
    "plt.ylabel(\"Eje y\")\n",
    "plt.scatter(x, y)\n",
    "plt.show()"
   ]
  },
  {
   "cell_type": "code",
   "execution_count": null,
   "metadata": {},
   "outputs": [],
   "source": [
    "import numpy as np\n",
    "\n",
    "# Crear un ndarray 2D\n",
    "ndarray = np.array([[1, 2, 3], [4, 5, 6]])\n",
    "\n",
    "print(ndarray.shape)  # (2, 3)\n",
    "print(ndarray.dtype)  # int32\n"
   ]
  },
  {
   "cell_type": "code",
   "execution_count": null,
   "metadata": {},
   "outputs": [],
   "source": [
    "# Con int32 (límite: 2,147,483,647)\n",
    "arr = np.array([2147483647], dtype=np.int64)\n",
    "print(arr)\n",
    "arr += 1  # ¡Overflow! (resultado inesperado)\n",
    "print(arr)"
   ]
  },
  {
   "cell_type": "code",
   "execution_count": null,
   "metadata": {},
   "outputs": [],
   "source": [
    "matriz1 = ([88, 23, 39, 41])\n",
    "array1 =np.array(matriz1)\n",
    "print(array1)\n",
    "\n",
    "matriz2 = ([[76.4, 21.7, 38.4], [41.2, 52.8, 68.9]])\n",
    "array2 = np.array(matriz2)\n",
    "print(array2)\n",
    "\n",
    "matriz3 = ([[12], [4], [9], [8]])\n",
    "array3 = np.array(matriz3)\n",
    "print(array3)"
   ]
  },
  {
   "cell_type": "code",
   "execution_count": null,
   "metadata": {},
   "outputs": [],
   "source": [
    "a = np.array([1, 2, 3, 4, 5, 6, 7, 8, 9, 10, 11, 12])\n",
    "print(a)\n",
    "\n",
    "b = np.reshape(a, (6, 2))\n",
    "\n",
    "print(b)\n",
    "\n",
    "np.save('my_matrix', b)\n",
    "\n",
    "m_re = np.load('my_matrix.npy')\n",
    "\n",
    "print(m_re)"
   ]
  },
  {
   "cell_type": "code",
   "execution_count": null,
   "metadata": {},
   "outputs": [],
   "source": [
    "import numpy as np\n",
    "\n",
    "a = np.array([1, 2, 3, 4, 5, 6, 7, 8, 9, 10, 11, 12])\n",
    "print(a)\n",
    "\n",
    "b = np.reshape(a, (6, 2))\n",
    "print(b)\n",
    "\n",
    "np.savetxt('my_matrix', b, ftm='%d')\n"
   ]
  },
  {
   "cell_type": "code",
   "execution_count": null,
   "metadata": {},
   "outputs": [],
   "source": [
    "import numpy as np\n",
    "\n",
    "# Versión 1: Diagonal con números del 1 al 49 en la diagonal principal\n",
    "matriz = np.diag(range(0, 50))  # 49 elementos (del 1 al 49)\n",
    "print(matriz)\n"
   ]
  },
  {
   "cell_type": "code",
   "execution_count": null,
   "metadata": {},
   "outputs": [],
   "source": [
    "import numpy as np\n",
    "x = np.linspace(0, 10, 5)\n",
    "print(x)  # Salida: [ 0.   2.5  5.   7.5 10. ]"
   ]
  },
  {
   "cell_type": "code",
   "execution_count": null,
   "metadata": {},
   "outputs": [],
   "source": [
    "import numpy as np\n",
    "values = np.array([10, 11, 12, 13, 14, 15])\n",
    "print(values)\n",
    "values = np.insert(values, 101)\n",
    "print(values)"
   ]
  },
  {
   "cell_type": "code",
   "execution_count": null,
   "metadata": {},
   "outputs": [],
   "source": [
    "import numpy as np\n",
    "values = np.array([10, 11, 12, 13, 14, 15])\n",
    "\n",
    "values = np.append(values, 'a')\n",
    "print(values)\n",
    "values = np.insert(values, 1, 'b')\n",
    "print(values)\n"
   ]
  },
  {
   "cell_type": "code",
   "execution_count": null,
   "metadata": {},
   "outputs": [],
   "source": [
    "import numpy as np\n",
    "\n",
    "values = np.array([10, 11, 12, 13, 14, 15])\n",
    "values = np.arange(1, 13).reshape(3, 4)\n",
    "print (values[[0, 2], [1, 2]])\n",
    "values = np.append(values, [17,18, 'a', 19, 'l'])\n",
    "print(values)"
   ]
  },
  {
   "cell_type": "code",
   "execution_count": null,
   "metadata": {},
   "outputs": [],
   "source": [
    "import numpy as np\n",
    "\n",
    "values = np.arange(1, 13).reshape(3, 4)\n",
    "print(values)"
   ]
  },
  {
   "cell_type": "code",
   "execution_count": null,
   "metadata": {},
   "outputs": [],
   "source": [
    "md = {'comida': 'pan', 'ingrediente': 'arroz'}\n",
    "print(md)\n",
    "\n",
    "md['cena'] = 'pescado'\n",
    "print(md)\n",
    "\n",
    "md['once'] = 'huevos'\n",
    "print(md)"
   ]
  },
  {
   "cell_type": "code",
   "execution_count": null,
   "metadata": {},
   "outputs": [],
   "source": [
    "import numpy as np\n",
    "import pandas as pd\n",
    "\n",
    "myarray = np.array([[1,2,3],[4,5,6]])\n",
    "rowname = ['a', 'b']\n",
    "colnames = ['nombres', 'NPersonas', 'three']\n",
    "\n",
    "df = pd.DataFrame(myarray, index=rowname, columns=colnames)\n",
    "\n",
    "print(df)"
   ]
  },
  {
   "cell_type": "code",
   "execution_count": null,
   "metadata": {},
   "outputs": [],
   "source": [
    "import numpy as np\n",
    "import pandas as pd\n",
    "\n",
    "colnames = [\"States\", 'Population', 'Postal']\n",
    "\n",
    "array = np.array([['California', 39613493, 'CA'], \n",
    "                  ['Texas', 29730311, 'TX'], \n",
    "                  ['Florida', 21944577,'FL'], \n",
    "                  ['New York', 19299981, 'NY']])\n",
    "rowname = ['California', 'Texas', 'Florida', 'New York']\n",
    "\n",
    "df = pd.DataFrame(array, columns=colnames)\n",
    "print(df)"
   ]
  },
  {
   "cell_type": "code",
   "execution_count": null,
   "metadata": {},
   "outputs": [],
   "source": [
    "import numpy as np\n",
    "import pandas as pd\n",
    "\n",
    "colnames = [\"States\", \"Population\", \"Postal\"]\n",
    "\n",
    "array = np.array([\n",
    "    ['California', 39613493, 'CA'],\n",
    "    ['Texas', 29730311, 'TX'],\n",
    "    ['Florida', 21944577, 'FL'],\n",
    "    ['New York', 19299981, 'NY']\n",
    "])\n",
    "\n",
    "\n",
    "df = pd.DataFrame(array, columns=colnames)\n",
    "print(df)"
   ]
  },
  {
   "cell_type": "code",
   "execution_count": null,
   "metadata": {},
   "outputs": [],
   "source": [
    "import numpy as np\n",
    "import pandas as pd\n",
    "\n",
    "array = np.array([\n",
    "    [1, 4],\n",
    "    [2,5],\n",
    "    [3, 6]\n",
    "])\n",
    "\n",
    "colnames = ['Col1', 'Col2']\n",
    "\n",
    "df = pd.DataFrame(array, columns=colnames)\n",
    "\n",
    "print(df)"
   ]
  },
  {
   "cell_type": "code",
   "execution_count": 3,
   "metadata": {},
   "outputs": [
    {
     "name": "stdout",
     "output_type": "stream",
     "text": [
      "       States  Population\n",
      "0  California    39613493\n",
      "1       Texas    29730311\n",
      "2     Florida    21944577\n",
      "3    New York    19299981\n"
     ]
    }
   ],
   "source": [
    "import numpy as np\n",
    "import pandas as pd\n",
    "\n",
    "estados = ['California', 'Texas', 'Florida', 'New York']\n",
    "popularidad = [39613493, 29730311, 21944577, 19299981]\n",
    "diccionario = {'States':estados, 'Population':popularidad}\n",
    "\n",
    "df = pd.DataFrame(diccionario)\n",
    "\n",
    "print(df)"
   ]
  },
  {
   "cell_type": "code",
   "execution_count": 7,
   "metadata": {},
   "outputs": [
    {
     "name": "stdout",
     "output_type": "stream",
     "text": [
      "       States  Population\n",
      "0  California    39613493\n",
      "1       Texas    29730311\n",
      "2     Florida    21944577\n",
      "3    New York    19299981\n"
     ]
    }
   ],
   "source": [
    "import pandas as pd\n",
    "\n",
    "pd.set_option('display.max_rows', 1000)  # Para verificar que se cargó correctamente\n",
    "print(df)"
   ]
  },
  {
   "cell_type": "code",
   "execution_count": 6,
   "metadata": {},
   "outputs": [
    {
     "name": "stdout",
     "output_type": "stream",
     "text": [
      "       States  Population\n",
      "0  California    39613493\n",
      "1       Texas    29730311\n",
      "2     Florida    21944577\n",
      "3    New York    19299981\n"
     ]
    }
   ],
   "source": [
    "import pandas as pd\n",
    "\n",
    "pd.set_option('display.max_rows', 1000)  # Para verificar que se cargó correctamente\n",
    "print(df)"
   ]
  },
  {
   "cell_type": "code",
   "execution_count": 19,
   "metadata": {},
   "outputs": [
    {
     "name": "stdout",
     "output_type": "stream",
     "text": [
      "89\n",
      "     gender race/ethnicity parental level of education         lunch  \\\n",
      "0    female        group B           bachelor's degree      standard   \n",
      "1    female        group C                some college      standard   \n",
      "2    female        group B             master's degree      standard   \n",
      "3      male        group A          associate's degree  free/reduced   \n",
      "4      male        group C                some college      standard   \n",
      "..      ...            ...                         ...           ...   \n",
      "995  female        group E             master's degree      standard   \n",
      "996    male        group C                 high school  free/reduced   \n",
      "997  female        group C                 high school  free/reduced   \n",
      "998  female        group D                some college      standard   \n",
      "999  female        group D                some college  free/reduced   \n",
      "\n",
      "    test preparation course  math score  reading score  writing score  \n",
      "0                      none          72             72             74  \n",
      "1                 completed          69             90             88  \n",
      "2                      none          90             95             93  \n",
      "3                      none          47             57             44  \n",
      "4                      none          76             78             75  \n",
      "..                      ...         ...            ...            ...  \n",
      "995               completed          88             99             95  \n",
      "996                    none          62             55             55  \n",
      "997               completed          59             71             65  \n",
      "998               completed          68             78             77  \n",
      "999                    none          77             86             86  \n",
      "\n",
      "[1000 rows x 8 columns]\n"
     ]
    }
   ],
   "source": [
    "import pandas as pd\n",
    "import numpy as np\n",
    "\n",
    "csv = pd.read_csv('D:/Benja_cosas/CURSO DS/CSV/StudentsPerformance.csv')\n",
    "csv.sort_values('race/ethnicity', ascending=True, key=lambda col:col.str.lower())\n",
    "group_a = len(csv[csv['race/ethnicity'] == 'group A'])\n",
    "print(group_a)\n",
    "print(csv)"
   ]
  },
  {
   "cell_type": "markdown",
   "metadata": {},
   "source": [
    "La data"
   ]
  },
  {
   "cell_type": "code",
   "execution_count": 2,
   "metadata": {},
   "outputs": [
    {
     "data": {
      "text/html": [
       "<div>\n",
       "<style scoped>\n",
       "    .dataframe tbody tr th:only-of-type {\n",
       "        vertical-align: middle;\n",
       "    }\n",
       "\n",
       "    .dataframe tbody tr th {\n",
       "        vertical-align: top;\n",
       "    }\n",
       "\n",
       "    .dataframe thead th {\n",
       "        text-align: right;\n",
       "    }\n",
       "</style>\n",
       "<table border=\"1\" class=\"dataframe\">\n",
       "  <thead>\n",
       "    <tr style=\"text-align: right;\">\n",
       "      <th></th>\n",
       "      <th>Rooms</th>\n",
       "      <th>Distance</th>\n",
       "      <th>Value</th>\n",
       "    </tr>\n",
       "  </thead>\n",
       "  <tbody>\n",
       "    <tr>\n",
       "      <th>count</th>\n",
       "      <td>506.000000</td>\n",
       "      <td>506.000000</td>\n",
       "      <td>506.000000</td>\n",
       "    </tr>\n",
       "    <tr>\n",
       "      <th>mean</th>\n",
       "      <td>6.284634</td>\n",
       "      <td>3.795043</td>\n",
       "      <td>22.532806</td>\n",
       "    </tr>\n",
       "    <tr>\n",
       "      <th>std</th>\n",
       "      <td>0.702617</td>\n",
       "      <td>2.105710</td>\n",
       "      <td>9.197104</td>\n",
       "    </tr>\n",
       "    <tr>\n",
       "      <th>min</th>\n",
       "      <td>3.561000</td>\n",
       "      <td>1.129600</td>\n",
       "      <td>5.000000</td>\n",
       "    </tr>\n",
       "    <tr>\n",
       "      <th>25%</th>\n",
       "      <td>5.885500</td>\n",
       "      <td>2.100175</td>\n",
       "      <td>17.025000</td>\n",
       "    </tr>\n",
       "    <tr>\n",
       "      <th>50%</th>\n",
       "      <td>6.208500</td>\n",
       "      <td>3.207450</td>\n",
       "      <td>21.200000</td>\n",
       "    </tr>\n",
       "    <tr>\n",
       "      <th>75%</th>\n",
       "      <td>6.623500</td>\n",
       "      <td>5.188425</td>\n",
       "      <td>25.000000</td>\n",
       "    </tr>\n",
       "    <tr>\n",
       "      <th>max</th>\n",
       "      <td>8.780000</td>\n",
       "      <td>12.126500</td>\n",
       "      <td>50.000000</td>\n",
       "    </tr>\n",
       "  </tbody>\n",
       "</table>\n",
       "</div>"
      ],
      "text/plain": [
       "            Rooms    Distance       Value\n",
       "count  506.000000  506.000000  506.000000\n",
       "mean     6.284634    3.795043   22.532806\n",
       "std      0.702617    2.105710    9.197104\n",
       "min      3.561000    1.129600    5.000000\n",
       "25%      5.885500    2.100175   17.025000\n",
       "50%      6.208500    3.207450   21.200000\n",
       "75%      6.623500    5.188425   25.000000\n",
       "max      8.780000   12.126500   50.000000"
      ]
     },
     "execution_count": 2,
     "metadata": {},
     "output_type": "execute_result"
    }
   ],
   "source": [
    "import pandas as pd\n",
    "import numpy as np\n",
    "\n",
    "casas = pd.read_csv('D:/Benja_cosas/CURSO DS/CSV/Boston House Prices.csv')\n",
    "casas.describe()\n"
   ]
  },
  {
   "cell_type": "code",
   "execution_count": null,
   "metadata": {},
   "outputs": [
    {
     "data": {
      "text/html": [
       "<table class=\"simpletable\">\n",
       "<caption>OLS Regression Results</caption>\n",
       "<tr>\n",
       "  <th>Dep. Variable:</th>          <td>Value</td>      <th>  R-squared:         </th> <td>   0.484</td>\n",
       "</tr>\n",
       "<tr>\n",
       "  <th>Model:</th>                   <td>OLS</td>       <th>  Adj. R-squared:    </th> <td>   0.483</td>\n",
       "</tr>\n",
       "<tr>\n",
       "  <th>Method:</th>             <td>Least Squares</td>  <th>  F-statistic:       </th> <td>   471.8</td>\n",
       "</tr>\n",
       "<tr>\n",
       "  <th>Date:</th>             <td>Thu, 15 May 2025</td> <th>  Prob (F-statistic):</th> <td>2.49e-74</td>\n",
       "</tr>\n",
       "<tr>\n",
       "  <th>Time:</th>                 <td>15:08:59</td>     <th>  Log-Likelihood:    </th> <td> -1673.1</td>\n",
       "</tr>\n",
       "<tr>\n",
       "  <th>No. Observations:</th>      <td>   506</td>      <th>  AIC:               </th> <td>   3350.</td>\n",
       "</tr>\n",
       "<tr>\n",
       "  <th>Df Residuals:</th>          <td>   504</td>      <th>  BIC:               </th> <td>   3359.</td>\n",
       "</tr>\n",
       "<tr>\n",
       "  <th>Df Model:</th>              <td>     1</td>      <th>                     </th>     <td> </td>   \n",
       "</tr>\n",
       "<tr>\n",
       "  <th>Covariance Type:</th>      <td>nonrobust</td>    <th>                     </th>     <td> </td>   \n",
       "</tr>\n",
       "</table>\n",
       "<table class=\"simpletable\">\n",
       "<tr>\n",
       "    <td></td>       <th>coef</th>     <th>std err</th>      <th>t</th>      <th>P>|t|</th>  <th>[0.025</th>    <th>0.975]</th>  \n",
       "</tr>\n",
       "<tr>\n",
       "  <th>const</th> <td>  -34.6706</td> <td>    2.650</td> <td>  -13.084</td> <td> 0.000</td> <td>  -39.877</td> <td>  -29.465</td>\n",
       "</tr>\n",
       "<tr>\n",
       "  <th>Rooms</th> <td>    9.1021</td> <td>    0.419</td> <td>   21.722</td> <td> 0.000</td> <td>    8.279</td> <td>    9.925</td>\n",
       "</tr>\n",
       "</table>\n",
       "<table class=\"simpletable\">\n",
       "<tr>\n",
       "  <th>Omnibus:</th>       <td>102.585</td> <th>  Durbin-Watson:     </th> <td>   0.684</td> \n",
       "</tr>\n",
       "<tr>\n",
       "  <th>Prob(Omnibus):</th> <td> 0.000</td>  <th>  Jarque-Bera (JB):  </th> <td> 612.449</td> \n",
       "</tr>\n",
       "<tr>\n",
       "  <th>Skew:</th>          <td> 0.726</td>  <th>  Prob(JB):          </th> <td>1.02e-133</td>\n",
       "</tr>\n",
       "<tr>\n",
       "  <th>Kurtosis:</th>      <td> 8.190</td>  <th>  Cond. No.          </th> <td>    58.4</td> \n",
       "</tr>\n",
       "</table><br/><br/>Notes:<br/>[1] Standard Errors assume that the covariance matrix of the errors is correctly specified."
      ],
      "text/latex": [
       "\\begin{center}\n",
       "\\begin{tabular}{lclc}\n",
       "\\toprule\n",
       "\\textbf{Dep. Variable:}    &      Value       & \\textbf{  R-squared:         } &     0.484   \\\\\n",
       "\\textbf{Model:}            &       OLS        & \\textbf{  Adj. R-squared:    } &     0.483   \\\\\n",
       "\\textbf{Method:}           &  Least Squares   & \\textbf{  F-statistic:       } &     471.8   \\\\\n",
       "\\textbf{Date:}             & Thu, 15 May 2025 & \\textbf{  Prob (F-statistic):} &  2.49e-74   \\\\\n",
       "\\textbf{Time:}             &     15:08:59     & \\textbf{  Log-Likelihood:    } &   -1673.1   \\\\\n",
       "\\textbf{No. Observations:} &         506      & \\textbf{  AIC:               } &     3350.   \\\\\n",
       "\\textbf{Df Residuals:}     &         504      & \\textbf{  BIC:               } &     3359.   \\\\\n",
       "\\textbf{Df Model:}         &           1      & \\textbf{                     } &             \\\\\n",
       "\\textbf{Covariance Type:}  &    nonrobust     & \\textbf{                     } &             \\\\\n",
       "\\bottomrule\n",
       "\\end{tabular}\n",
       "\\begin{tabular}{lcccccc}\n",
       "               & \\textbf{coef} & \\textbf{std err} & \\textbf{t} & \\textbf{P$> |$t$|$} & \\textbf{[0.025} & \\textbf{0.975]}  \\\\\n",
       "\\midrule\n",
       "\\textbf{const} &     -34.6706  &        2.650     &   -13.084  &         0.000        &      -39.877    &      -29.465     \\\\\n",
       "\\textbf{Rooms} &       9.1021  &        0.419     &    21.722  &         0.000        &        8.279    &        9.925     \\\\\n",
       "\\bottomrule\n",
       "\\end{tabular}\n",
       "\\begin{tabular}{lclc}\n",
       "\\textbf{Omnibus:}       & 102.585 & \\textbf{  Durbin-Watson:     } &     0.684  \\\\\n",
       "\\textbf{Prob(Omnibus):} &   0.000 & \\textbf{  Jarque-Bera (JB):  } &   612.449  \\\\\n",
       "\\textbf{Skew:}          &   0.726 & \\textbf{  Prob(JB):          } & 1.02e-133  \\\\\n",
       "\\textbf{Kurtosis:}      &   8.190 & \\textbf{  Cond. No.          } &      58.4  \\\\\n",
       "\\bottomrule\n",
       "\\end{tabular}\n",
       "%\\caption{OLS Regression Results}\n",
       "\\end{center}\n",
       "\n",
       "Notes: \\newline\n",
       " [1] Standard Errors assume that the covariance matrix of the errors is correctly specified."
      ],
      "text/plain": [
       "<class 'statsmodels.iolib.summary.Summary'>\n",
       "\"\"\"\n",
       "                            OLS Regression Results                            \n",
       "==============================================================================\n",
       "Dep. Variable:                  Value   R-squared:                       0.484\n",
       "Model:                            OLS   Adj. R-squared:                  0.483\n",
       "Method:                 Least Squares   F-statistic:                     471.8\n",
       "Date:                Thu, 15 May 2025   Prob (F-statistic):           2.49e-74\n",
       "Time:                        15:08:59   Log-Likelihood:                -1673.1\n",
       "No. Observations:                 506   AIC:                             3350.\n",
       "Df Residuals:                     504   BIC:                             3359.\n",
       "Df Model:                           1                                         \n",
       "Covariance Type:            nonrobust                                         \n",
       "==============================================================================\n",
       "                 coef    std err          t      P>|t|      [0.025      0.975]\n",
       "------------------------------------------------------------------------------\n",
       "const        -34.6706      2.650    -13.084      0.000     -39.877     -29.465\n",
       "Rooms          9.1021      0.419     21.722      0.000       8.279       9.925\n",
       "==============================================================================\n",
       "Omnibus:                      102.585   Durbin-Watson:                   0.684\n",
       "Prob(Omnibus):                  0.000   Jarque-Bera (JB):              612.449\n",
       "Skew:                           0.726   Prob(JB):                    1.02e-133\n",
       "Kurtosis:                       8.190   Cond. No.                         58.4\n",
       "==============================================================================\n",
       "\n",
       "Notes:\n",
       "[1] Standard Errors assume that the covariance matrix of the errors is correctly specified.\n",
       "\"\"\""
      ]
     },
     "execution_count": 9,
     "metadata": {},
     "output_type": "execute_result"
    },
    {
     "data": {
      "image/png": "[encoded data removed]",
      "text/plain": [
       "<Figure size 640x480 with 1 Axes>"
      ]
     },
     "metadata": {},
     "output_type": "display_data"
    }
   ],
   "source": [
    "import statsmodels.api as sm\n",
    "import pandas as pd\n",
    "import numpy as np\n",
    "\n",
    "casas = pd.read_csv('D:/Benja_cosas/CURSO DS/CSV/Boston House Prices.csv')\n",
    "#Variable independiente\n",
    "x = casas['Rooms']\n",
    "#Variable dependiente \n",
    "y = casas['Value']\n",
    "casas.plot(kind='scatter',\n",
    "           x='Rooms',\n",
    "           y='Value')\n",
    "\n",
    "x = sm.add_constant(x)\n",
    "lm = sm.OLS(y, x).fit()\n",
    "lm.predict(x)\n",
    "#lm.summary()"
   ]
  },
  {
   "cell_type": "code",
   "execution_count": null,
   "metadata": {},
   "outputs": [],
   "source": []
  }
 ],
 "metadata": {
  "kernelspec": {
   "display_name": ".venv",
   "language": "python",
   "name": "python3"
  },
  "language_info": {
   "codemirror_mode": {
    "name": "ipython",
    "version": 3
   },
   "file_extension": ".py",
   "mimetype": "text/x-python",
   "name": "python",
   "nbconvert_exporter": "python",
   "pygments_lexer": "ipython3",
   "version": "3.12.1"
  }
 },
 "nbformat": 4,
 "nbformat_minor": 2
}
