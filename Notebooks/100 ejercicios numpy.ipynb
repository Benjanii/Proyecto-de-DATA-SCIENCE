{
 "cells": [
  {
   "cell_type": "code",
   "execution_count": 1,
   "id": "800f687a",
   "metadata": {},
   "outputs": [],
   "source": [
    "# 1. Crear un array de ceros\n",
    "# 2. Mostrar configuración de NumPy\n",
    "# 3. Inicializar un vector de longitud 10 con ceros\n",
    "# 4. Obtener información de la función add (in English)\n",
    "# 5. Establecer el valor 1 en la posición 4 de un vector de ceros\n",
    "# 6. Generar un array de enteros del 10 al 49\n",
    "# 7. Invertir un array de 0 a 49\n",
    "# 8. Reestructurar un array de 9 elementos en una matriz 3×3\n",
    "# 9. Encontrar índices de elementos no cero\n",
    "# 10. Matriz identidad de tamaño 3×3\n",
    "# 11. Generate a random 3D array (in English)\n",
    "# 12. Normalizar valores mínimo y máximo de una matriz 10×10\n",
    "# 13. Calcular la media de 30 números aleatorios\n",
    "# 14. Rellenar bordes con unos y centro con ceros\n",
    "# 15. Comportamiento de NaN e infinitos (in English)\n",
    "# 16. Crear una matriz diagonal con valores desplazados\n",
    "# 17. Tablero de ajedrez de 8×8 con ceros y unos\n",
    "# 18. Índice multilínea con np.unravel_index\n",
    "# 19. Repetir un patrón bidimensional 4 veces\n",
    "# 20. Escalar una matriz aleatoria 5×5 al rango [0,1]\n",
    "# 21. Definir un dtype para colores RGBA\n",
    "# 22. Matrix multiplication of ones (in English)\n",
    "# 23. Negativizar elementos en un rango dado\n",
    "# 24. Sumar rangos con numpy y Python built-in (in English)\n",
    "# 25. Operaciones bitwise y aritméticas diversas\n",
    "# 26. Division and floor division edge cases (in English)\n",
    "# 27. Redondear números uniformes con truncamiento\n",
    "# 28. Obtener partes enteras de números aleatorios\n",
    "# 29. Añadir vectores en matrices\n",
    "# 30. Crear un array desde un generador\n",
    "# 31. Generar valores intermedios con linspace\n",
    "# 32. Ordenar un vector aleatorio\n",
    "# 33. Sumar todos los elementos de un array\n",
    "# 34. Comparar arrays booleanos\n",
    "# 35. Hacer un array no modificable\n",
    "# 36. Convertir coordenadas cartesianas a polares\n",
    "# 37. Reemplazar el valor máximo por cero\n",
    "# 38. Array estructurado 10×10\n",
    "# 39. Determinante por outer subtraction\n",
    "# 40. Límites de tipos NumPy\n",
    "# 41. Mostrar matriz grande completa\n",
    "# 42. Valor más cercano en vector\n",
    "# 43. Array con posición y color\n",
    "# 44. Distancias con scipy.spatial (in English)\n",
    "# 45. Convertir tipo sin copiar\n",
    "# 46. Leer datos con genfromtxt\n",
    "# 47. Iterar índices y valores\n",
    "# 48. Matriz Gaussiana 2D\n",
    "# 49. Colocar unos aleatoriamente\n",
    "# 50. Centralizar datos por fila\n",
    "# 51. Normalizar matriz aleatoria 5×5\n",
    "# 52. Multiplicar matriz 5×3 por 3×2\n",
    "# 53. Dividir array 1D de tamaño 20 en 4 partes\n",
    "# 54. Reemplazar valores mayores que 5 por 5\n",
    "# 55. Convertir lista de Python a array\n",
    "# 56. Valores únicos y conteo\n",
    "# 57. Crear matriz tridiagonal\n",
    "# 58. Crear vector de enteros 10 a 49 (repetido)\n",
    "# 59. Subsetting y asignación condicional\n",
    "# 60. Media, varianza y desviación estándar\n",
    "# 61. Broadcasting y potencias\n",
    "# 62. Transponer matrices\n",
    "# 63. Intercambiar filas y columnas\n",
    "# 64. Aplanar un array\n",
    "# 65. Crear meshgrid\n",
    "# 66. Extraer centro de matriz\n",
    "# 67. Convertir float a int con truncamiento\n",
    "# 68. Invertir bits de array binario\n",
    "# 69. Suma acumulada\n",
    "# 70. Producto acumulado\n",
    "# 71. Producto punto entre vectores\n",
    "# 72. Determinante de 3×3\n",
    "# 73. Inversa de matriz\n",
    "# 74. Resolver sistema lineal Ax=b\n",
    "# 75. Covarianza y correlación\n",
    "# 76. Histograma de datos\n",
    "# 77. Concatenar arrays\n",
    "# 78. Stack vertical y horizontal\n",
    "# 79. Dividir con hsplit\n",
    "# 80. Indexación booleana\n",
    "# 81. Indexación fancy\n",
    "# 82. Unique con retorno de índices\n",
    "# 83. Nonzero en matriz 2D\n",
    "# 84. Matriz identidad con desplazamiento k\n",
    "# 85. Bordes ceros centro unos\n",
    "# 86. Permutar aleatoriamente elementos\n",
    "# 87. Establecer diagonal principal\n",
    "# 88. Extraer diagonal\n",
    "# 89. Matriz tridiagonal (generalizada)\n",
    "# 90. Uniform random ints entre 0 y 10\n",
    "# 91. Distribución geométrica\n",
    "# 92. Distribución normal\n",
    "# 93. Elegir elementos aleatorios de lista\n",
    "# 94. Barajar filas de matriz\n",
    "# 95. Añadir filas a matriz\n",
    "# 96. Eliminar columna\n",
    "# 97. Insertar columna\n",
    "# 98. Ordenar filas\n",
    "# 99. Lexsort con dos columnas\n",
    "# 100. Obtener submatriz de esquina superior"
   ]
  },
  {
   "cell_type": "markdown",
   "id": "8c815b3a",
   "metadata": {},
   "source": [
    "### EJERCICIO 1\n",
    "Crear un array de ceros\n"
   ]
  },
  {
   "cell_type": "code",
   "execution_count": 2,
   "id": "bb336dde",
   "metadata": {},
   "outputs": [
    {
     "name": "stdout",
     "output_type": "stream",
     "text": [
      "Array de ceros:\n",
      " [[0. 0. 0.]\n",
      " [0. 0. 0.]\n",
      " [0. 0. 0.]]\n"
     ]
    }
   ],
   "source": [
    "import numpy as np\n",
    "array_zeros = np.zeros((3, 3))\n",
    "print(\"Array de ceros:\\n\", array_zeros)"
   ]
  },
  {
   "cell_type": "markdown",
   "id": "5b77526c",
   "metadata": {},
   "source": [
    "### EJERCICIO 2\n",
    "Imprime la versión de numpy y la configuración."
   ]
  },
  {
   "cell_type": "code",
   "execution_count": 6,
   "id": "8aab902c",
   "metadata": {},
   "outputs": [
    {
     "name": "stdout",
     "output_type": "stream",
     "text": [
      "2.2.4\n",
      "{\n",
      "  \"Compilers\": {\n",
      "    \"c\": {\n",
      "      \"name\": \"msvc\",\n",
      "      \"linker\": \"link\",\n",
      "      \"version\": \"19.29.30158\",\n",
      "      \"commands\": \"cl\"\n",
      "    },\n",
      "    \"cython\": {\n",
      "      \"name\": \"cython\",\n",
      "      \"linker\": \"cython\",\n",
      "      \"version\": \"3.0.12\",\n",
      "      \"commands\": \"cython\"\n",
      "    },\n",
      "    \"c++\": {\n",
      "      \"name\": \"msvc\",\n",
      "      \"linker\": \"link\",\n",
      "      \"version\": \"19.29.30158\",\n",
      "      \"commands\": \"cl\"\n",
      "    }\n",
      "  },\n",
      "  \"Machine Information\": {\n",
      "    \"host\": {\n",
      "      \"cpu\": \"x86_64\",\n",
      "      \"family\": \"x86_64\",\n",
      "      \"endian\": \"little\",\n",
      "      \"system\": \"windows\"\n",
      "    },\n",
      "    \"build\": {\n",
      "      \"cpu\": \"x86_64\",\n",
      "      \"family\": \"x86_64\",\n",
      "      \"endian\": \"little\",\n",
      "      \"system\": \"windows\"\n",
      "    }\n",
      "  },\n",
      "  \"Build Dependencies\": {\n",
      "    \"blas\": {\n",
      "      \"name\": \"scipy-openblas\",\n",
      "      \"found\": true,\n",
      "      \"version\": \"0.3.28\",\n",
      "      \"detection method\": \"pkgconfig\",\n",
      "      \"include directory\": \"C:/Users/runneradmin/AppData/Local/Temp/cibw-run-3gj71u4o/cp312-win_amd64/build/venv/Lib/site-packages/scipy_openblas64/include\",\n",
      "      \"lib directory\": \"C:/Users/runneradmin/AppData/Local/Temp/cibw-run-3gj71u4o/cp312-win_amd64/build/venv/Lib/site-packages/scipy_openblas64/lib\",\n",
      "      \"openblas configuration\": \"OpenBLAS 0.3.28  USE64BITINT DYNAMIC_ARCH NO_AFFINITY Haswell MAX_THREADS=24\",\n",
      "      \"pc file directory\": \"D:/a/numpy/numpy/.openblas\"\n",
      "    },\n",
      "    \"lapack\": {\n",
      "      \"name\": \"scipy-openblas\",\n",
      "      \"found\": true,\n",
      "      \"version\": \"0.3.28\",\n",
      "      \"detection method\": \"pkgconfig\",\n",
      "      \"include directory\": \"C:/Users/runneradmin/AppData/Local/Temp/cibw-run-3gj71u4o/cp312-win_amd64/build/venv/Lib/site-packages/scipy_openblas64/include\",\n",
      "      \"lib directory\": \"C:/Users/runneradmin/AppData/Local/Temp/cibw-run-3gj71u4o/cp312-win_amd64/build/venv/Lib/site-packages/scipy_openblas64/lib\",\n",
      "      \"openblas configuration\": \"OpenBLAS 0.3.28  USE64BITINT DYNAMIC_ARCH NO_AFFINITY Haswell MAX_THREADS=24\",\n",
      "      \"pc file directory\": \"D:/a/numpy/numpy/.openblas\"\n",
      "    }\n",
      "  },\n",
      "  \"Python Information\": {\n",
      "    \"path\": \"C:\\\\Users\\\\runneradmin\\\\AppData\\\\Local\\\\Temp\\\\build-env-_nerfvh_\\\\Scripts\\\\python.exe\",\n",
      "    \"version\": \"3.12\"\n",
      "  },\n",
      "  \"SIMD Extensions\": {\n",
      "    \"baseline\": [\n",
      "      \"SSE\",\n",
      "      \"SSE2\",\n",
      "      \"SSE3\"\n",
      "    ],\n",
      "    \"found\": [\n",
      "      \"SSSE3\",\n",
      "      \"SSE41\",\n",
      "      \"POPCNT\",\n",
      "      \"SSE42\",\n",
      "      \"AVX\",\n",
      "      \"F16C\",\n",
      "      \"FMA3\",\n",
      "      \"AVX2\"\n",
      "    ],\n",
      "    \"not found\": [\n",
      "      \"AVX512F\",\n",
      "      \"AVX512CD\",\n",
      "      \"AVX512_SKX\",\n",
      "      \"AVX512_CLX\",\n",
      "      \"AVX512_CNL\",\n",
      "      \"AVX512_ICL\"\n",
      "    ]\n",
      "  }\n",
      "}\n"
     ]
    }
   ],
   "source": [
    "print(np.__version__)\n",
    "np.show_config()"
   ]
  },
  {
   "cell_type": "code",
   "execution_count": null,
   "id": "00bb64ef",
   "metadata": {},
   "outputs": [],
   "source": [
    "print(np.__version__)\n",
    "np.show_config()"
   ]
  },
  {
   "cell_type": "markdown",
   "id": "bc41de19",
   "metadata": {},
   "source": [
    "### EJERCICIO 3\n",
    "Crea un vector nulo de tamaño 10"
   ]
  },
  {
   "cell_type": "code",
   "execution_count": 7,
   "id": "3d48c9ab",
   "metadata": {},
   "outputs": [
    {
     "name": "stdout",
     "output_type": "stream",
     "text": [
      "[0. 0. 0. 0. 0. 0. 0. 0. 0. 0.]\n"
     ]
    }
   ],
   "source": [
    "array_nulo = np.zeros(10)\n",
    "print(array_nulo)"
   ]
  },
  {
   "cell_type": "markdown",
   "id": "a5c831c5",
   "metadata": {},
   "source": [
    "### EJERCICIO 4\n",
    "obtener la documentación de la función add de numpy"
   ]
  },
  {
   "cell_type": "code",
   "execution_count": 9,
   "id": "a1c9fadf",
   "metadata": {},
   "outputs": [],
   "source": [
    "#python -c \"import numpy; numpy.info(numpy.add)\""
   ]
  },
  {
   "cell_type": "markdown",
   "id": "91d815e5",
   "metadata": {},
   "source": [
    "### EJERCICIO 5\n",
    "Crea un vector nulo de tamaño 10 pero el quinto valor debe ser 1"
   ]
  },
  {
   "cell_type": "code",
   "execution_count": 13,
   "id": "2604d491",
   "metadata": {},
   "outputs": [
    {
     "name": "stdout",
     "output_type": "stream",
     "text": [
      "[0 0 0 0 1 0 0 0 0 0]\n"
     ]
    }
   ],
   "source": [
    "v = np.array([0,0,0,0,1,0,0,0,0,0])\n",
    "print(v)"
   ]
  },
  {
   "cell_type": "markdown",
   "id": "1dd903be",
   "metadata": {},
   "source": [
    "### EJERCICIO 5\n",
    "Alternativa rapida"
   ]
  },
  {
   "cell_type": "code",
   "execution_count": 14,
   "id": "b59d12b7",
   "metadata": {},
   "outputs": [
    {
     "name": "stdout",
     "output_type": "stream",
     "text": [
      "[0. 0. 0. 0. 1. 0. 0. 0. 0. 0.]\n"
     ]
    }
   ],
   "source": [
    "v = np.zeros(10)\n",
    "v[4] = 1\n",
    "print(v)"
   ]
  },
  {
   "cell_type": "markdown",
   "id": "efea2af2",
   "metadata": {},
   "source": [
    "### EJERCICIO 6\n",
    "Crear un vector con los valores del 10 al 49"
   ]
  },
  {
   "cell_type": "code",
   "execution_count": 16,
   "id": "bf4f682c",
   "metadata": {},
   "outputs": [
    {
     "name": "stdout",
     "output_type": "stream",
     "text": [
      "[10 11 12 13 14 15 16 17 18 19 20 21 22 23 24 25 26 27 28 29 30 31 32 33\n",
      " 34 35 36 37 38 39 40 41 42 43 44 45 46 47 48 49]\n"
     ]
    }
   ],
   "source": [
    "print(np.arange(10, 50))"
   ]
  },
  {
   "cell_type": "markdown",
   "id": "79868f62",
   "metadata": {},
   "source": [
    "### EJERCICIO 7\n",
    "Invierte un vector (el primer elemento pasa a ser el último)"
   ]
  },
  {
   "cell_type": "code",
   "execution_count": null,
   "id": "16429614",
   "metadata": {},
   "outputs": [
    {
     "name": "stdout",
     "output_type": "stream",
     "text": [
      "[49 48 47 46 45 44 43 42 41 40 39 38 37 36 35 34 33 32 31 30 29 28 27 26\n",
      " 25 24 23 22 21 20 19 18 17 16 15 14 13 12 11 10]\n"
     ]
    }
   ],
   "source": [
    "invertir = np.arange(10, 50)[::-1]\n",
    "print(invertir)"
   ]
  },
  {
   "cell_type": "markdown",
   "id": "c61e70d1",
   "metadata": {},
   "source": [
    "### EJERCICIO 8\n",
    "Crea una matriz de 3x3 con valores que van del 0 al 8"
   ]
  },
  {
   "cell_type": "code",
   "execution_count": 19,
   "id": "535cdbd4",
   "metadata": {},
   "outputs": [
    {
     "name": "stdout",
     "output_type": "stream",
     "text": [
      "[[0 1 2]\n",
      " [3 4 5]\n",
      " [6 7 8]]\n"
     ]
    }
   ],
   "source": [
    "a = np.array([[0, 1, 2], [3, 4, 5], [6, 7, 8]])\n",
    "print(a)"
   ]
  },
  {
   "cell_type": "markdown",
   "id": "ce9f6bbf",
   "metadata": {},
   "source": [
    "### EJERCICIO 9\n",
    "Encuentra los índices de los elementos no nulos en [1, 2, 0, 0, 4, 0]"
   ]
  },
  {
   "cell_type": "code",
   "execution_count": 20,
   "id": "3a00deb6",
   "metadata": {},
   "outputs": [
    {
     "name": "stdout",
     "output_type": "stream",
     "text": [
      "(array([0, 1, 4]),)\n"
     ]
    }
   ],
   "source": [
    "# Encuentra los índices de los elementos no nulos en [1, 2, 0, 0, 4, 0]\n",
    "arr = np.array([1, 2, 0, 0, 4, 0])\n",
    "indices = np.nonzero(arr)\n",
    "print(indices)"
   ]
  },
  {
   "cell_type": "markdown",
   "id": "c941fcf3",
   "metadata": {},
   "source": [
    "### EJERCICIO 10\n",
    " Crea una matriz identidad de 3x3"
   ]
  },
  {
   "cell_type": "code",
   "execution_count": 21,
   "id": "e3306c9c",
   "metadata": {},
   "outputs": [
    {
     "name": "stdout",
     "output_type": "stream",
     "text": [
      "[[1. 0. 0.]\n",
      " [0. 1. 0.]\n",
      " [0. 0. 1.]]\n"
     ]
    }
   ],
   "source": [
    "m = np.eye(3)\n",
    "print(m)"
   ]
  },
  {
   "cell_type": "markdown",
   "id": "5213c9f2",
   "metadata": {},
   "source": [
    "### EJERCICIO 10\n",
    "EXTENSION\n",
    "Matriz de identidad de 4x4 de derecha a izquerda"
   ]
  },
  {
   "cell_type": "code",
   "execution_count": 23,
   "id": "38a4b2ba",
   "metadata": {},
   "outputs": [
    {
     "name": "stdout",
     "output_type": "stream",
     "text": [
      "[[0. 0. 0. 1.]\n",
      " [0. 0. 1. 0.]\n",
      " [0. 1. 0. 0.]\n",
      " [1. 0. 0. 0.]]\n"
     ]
    }
   ],
   "source": [
    "mcuatro= np.eye(4)[::-1]\n",
    "print(mcuatro)"
   ]
  },
  {
   "cell_type": "markdown",
   "id": "06c0e625",
   "metadata": {},
   "source": [
    "### EJERCICIO 11\n",
    "Crea un arreglo de 3x3x3 con valores aleatorios"
   ]
  },
  {
   "cell_type": "code",
   "execution_count": 30,
   "id": "476206e1",
   "metadata": {},
   "outputs": [
    {
     "name": "stdout",
     "output_type": "stream",
     "text": [
      "[[[0.69874104 0.80413731 0.64584783]\n",
      "  [0.19765502 0.74758715 0.52418043]\n",
      "  [0.09933788 0.60478453 0.80478129]]\n",
      "\n",
      " [[0.69871867 0.53464663 0.36339453]\n",
      "  [0.65989262 0.70488079 0.71808331]\n",
      "  [0.75151047 0.97754435 0.99951178]]\n",
      "\n",
      " [[0.51964578 0.57617796 0.99045098]\n",
      "  [0.8387071  0.17129101 0.33062286]\n",
      "  [0.10178928 0.29252047 0.27569138]]]\n"
     ]
    }
   ],
   "source": [
    "z = np.random.random((3, 3, 3))\n",
    "print(z)"
   ]
  },
  {
   "cell_type": "markdown",
   "id": "8ac20968",
   "metadata": {},
   "source": [
    "### EJERCICIO 12\n",
    "Crea un arreglo de 10x10 con valores aleatorios y encuentra el valor mínimo y el valor máximo"
   ]
  },
  {
   "cell_type": "code",
   "execution_count": 32,
   "id": "e5814889",
   "metadata": {},
   "outputs": [
    {
     "name": "stdout",
     "output_type": "stream",
     "text": [
      "Valor mínimo: 0.004052370390456361\n",
      "Valor máximo: 0.9873421323696551\n",
      "[[0.00405237 0.28055878 0.00636563 0.54985977 0.71433713 0.42573665\n",
      "  0.78124861 0.83029836 0.69692401 0.21279676]\n",
      " [0.67817386 0.3445625  0.73216661 0.70556713 0.40861292 0.67816278\n",
      "  0.32691003 0.78895139 0.84626367 0.98734213]\n",
      " [0.23338899 0.22072616 0.92851178 0.4609736  0.02749663 0.84732943\n",
      "  0.23456846 0.16769315 0.19004637 0.4638586 ]\n",
      " [0.16249011 0.92729162 0.01889065 0.05124032 0.68427875 0.35202926\n",
      "  0.32196448 0.01092539 0.74539148 0.28783191]\n",
      " [0.29708033 0.01053471 0.30497734 0.02425081 0.98266376 0.231445\n",
      "  0.56233874 0.1424418  0.58499325 0.83353248]\n",
      " [0.56720955 0.22795802 0.50658967 0.50908899 0.1814971  0.50414813\n",
      "  0.26670018 0.87274822 0.55292572 0.7641051 ]\n",
      " [0.0965585  0.51879637 0.94380887 0.29435741 0.23776869 0.62015222\n",
      "  0.75680244 0.80265038 0.48751987 0.21889136]\n",
      " [0.45177614 0.23630719 0.73370285 0.89970388 0.71910891 0.55519443\n",
      "  0.52908761 0.55139482 0.60946309 0.30483923]\n",
      " [0.05702729 0.26244341 0.23304547 0.95836114 0.63209668 0.87799792\n",
      "  0.04255935 0.25113747 0.26750597 0.08429746]\n",
      " [0.28701243 0.85736575 0.87121296 0.36498354 0.54151941 0.80513182\n",
      "  0.88793312 0.3219088  0.84081299 0.32620851]]\n"
     ]
    }
   ],
   "source": [
    "za = np.random.random((10, 10))\n",
    "print(\"Valor mínimo:\", za.min())\n",
    "print(\"Valor máximo:\", za.max())\n",
    "print(za)"
   ]
  },
  {
   "cell_type": "markdown",
   "id": "f81d881a",
   "metadata": {},
   "source": [
    "### EJERCICIO 13\n",
    "Crea un vector aleatorio de tamaño 30 y encuentra el valor medio"
   ]
  },
  {
   "cell_type": "code",
   "execution_count": 36,
   "id": "5f29a506",
   "metadata": {},
   "outputs": [
    {
     "name": "stdout",
     "output_type": "stream",
     "text": [
      "valor medio: 0.5723937058874349\n",
      "[0.90209179 0.86906848 0.49178905 0.62938906 0.37876191 0.78280768\n",
      " 0.79813285 0.57465201 0.59183979 0.26869608 0.17476266 0.95147308\n",
      " 0.62541991 0.93490994 0.8092054  0.35347813 0.99036434 0.25398953\n",
      " 0.11051574 0.37001429 0.6037169  0.88416275 0.35263635 0.28087716\n",
      " 0.74228252 0.07785189 0.29667235 0.53776926 0.54694491 0.98753536]\n"
     ]
    }
   ],
   "source": [
    "z = np.random.random((30))\n",
    "print(\"valor medio:\", z.mean())\n",
    "print(z)"
   ]
  },
  {
   "cell_type": "markdown",
   "id": "590abebb",
   "metadata": {},
   "source": [
    "### EJERCICIO 14\n",
    "Crea un arreglo 2D con 1 en los bordes y 0 en el interior"
   ]
  },
  {
   "cell_type": "code",
   "execution_count": 41,
   "id": "d03f5179",
   "metadata": {},
   "outputs": [
    {
     "name": "stdout",
     "output_type": "stream",
     "text": [
      "[[1. 1. 1. 1. 1.]\n",
      " [1. 0. 0. 0. 1.]\n",
      " [1. 0. 0. 0. 1.]\n",
      " [1. 0. 0. 0. 1.]\n",
      " [1. 1. 1. 1. 1.]]\n"
     ]
    }
   ],
   "source": [
    "a2d = np.ones((5, 5))\n",
    "a2d[1:-1, 1:-1] = 0\n",
    "print(a2d)\n"
   ]
  },
  {
   "cell_type": "markdown",
   "id": "b63444d3",
   "metadata": {},
   "source": [
    "### EJERCICIO 15\n",
    "¿Cuál es el resultado de la siguiente expresión?\n",
    "\n",
    "0 * np.nan\n",
    "\n",
    "np.nan == np.nan\n",
    "\n",
    "np.inf > np.nan\n",
    "\n",
    "np.nan - np.nan\n",
    "\n",
    "0.3 == 3 * 0.1"
   ]
  },
  {
   "cell_type": "markdown",
   "id": "46f17846",
   "metadata": {},
   "source": [
    "**Resultados:**   \n",
    "### EJERCICIO 15\n",
    "\n",
    "- `0 * np.nan` → `nan` (cualquier operación con nan da nan)\n",
    "- `np.nan == np.nan` → `False` (nan nunca es igual a nan)\n",
    "- `np.inf > np.nan` → `False` (nan no es comparable, cualquier comparación con nan es False)\n",
    "- `np.nan - np.nan` → `nan` (operaciones entre nan siguen siendo nan)\n",
    "- `0.3 == 3 * 0.1` → `False` (por precisión de punto flotante, 0.3 no es exactamente igual a 3*0.1)\n"
   ]
  },
  {
   "cell_type": "markdown",
   "id": "63081147",
   "metadata": {},
   "source": [
    "### EJERCICIO 16\n",
    "Crea una matriz de 5x5 con los valores 1, 2, 3, 4 justo debajo de la diagonal principal"
   ]
  },
  {
   "cell_type": "code",
   "execution_count": 42,
   "id": "3839e2a3",
   "metadata": {},
   "outputs": [
    {
     "name": "stdout",
     "output_type": "stream",
     "text": [
      "[[0 0 0 0 0]\n",
      " [1 0 0 0 0]\n",
      " [0 2 0 0 0]\n",
      " [0 0 3 0 0]\n",
      " [0 0 0 4 0]]\n"
     ]
    }
   ],
   "source": [
    "# Crear una matriz de 5x5 con los valores 1,2,3,4 justo debajo de la diagonal principal\n",
    "matriz = np.diag([1, 2, 3, 4], k=-1)\n",
    "print(matriz)"
   ]
  },
  {
   "cell_type": "markdown",
   "id": "f1355347",
   "metadata": {},
   "source": [
    "### EJERCICIO 17\n",
    "Crea una matriz de 8x8 y rellénala con un patrón de tablero de ajedrez"
   ]
  },
  {
   "cell_type": "code",
   "execution_count": 57,
   "id": "8c172efb",
   "metadata": {},
   "outputs": [
    {
     "name": "stdout",
     "output_type": "stream",
     "text": [
      "[[0 1 0 1 0 1 0 1]\n",
      " [1 0 1 0 1 0 1 0]\n",
      " [0 1 0 1 0 1 0 1]\n",
      " [1 0 1 0 1 0 1 0]\n",
      " [0 1 0 1 0 1 0 1]\n",
      " [1 0 1 0 1 0 1 0]\n",
      " [0 1 0 1 0 1 0 1]\n",
      " [1 0 1 0 1 0 1 0]]\n"
     ]
    }
   ],
   "source": [
    "ajedrez = np.zeros((8, 8), dtype='int')\n",
    "ajedrez[1::2, ::2] = 1\n",
    "ajedrez[::2, 1::2] = 1\n",
    "print(ajedrez)"
   ]
  },
  {
   "cell_type": "markdown",
   "id": "8d32789f",
   "metadata": {},
   "source": [
    "### EJERCICIO 18\n",
    "Considera un arreglo de forma (6, 7, 8), ¿cuál es el índice (x, y, z) del elemento número 100?"
   ]
  },
  {
   "cell_type": "code",
   "execution_count": null,
   "id": "4759eba0",
   "metadata": {},
   "outputs": [
    {
     "name": "stdout",
     "output_type": "stream",
     "text": [
      "(np.int64(1), np.int64(5), np.int64(4))\n",
      "Índice del elemento número 100: (np.int64(1), np.int64(5), np.int64(4))\n"
     ]
    }
   ],
   "source": [
    "ejercicio18 = np.zeros((6, 7, 8))\n",
    "indice_100 = np.unravel_index(100, ejercicio18.shape)\n",
    "print(indice_100)"
   ]
  },
  {
   "cell_type": "markdown",
   "id": "595da065",
   "metadata": {},
   "source": [
    "### EJERCICIO 19\n",
    "Cree una matriz de tablero de ajedrez de 8x8 utilizando la función de mosaico"
   ]
  },
  {
   "cell_type": "code",
   "execution_count": 58,
   "id": "56f27ea4",
   "metadata": {},
   "outputs": [
    {
     "name": "stdout",
     "output_type": "stream",
     "text": [
      "[[0 1 0 1 0 1 0 1]\n",
      " [1 0 1 0 1 0 1 0]\n",
      " [0 1 0 1 0 1 0 1]\n",
      " [1 0 1 0 1 0 1 0]\n",
      " [0 1 0 1 0 1 0 1]\n",
      " [1 0 1 0 1 0 1 0]\n",
      " [0 1 0 1 0 1 0 1]\n",
      " [1 0 1 0 1 0 1 0]]\n"
     ]
    }
   ],
   "source": [
    "ajedrez = np.array([[0, 1], [1, 0]])\n",
    "ajedrez = np.tile(ajedrez, (4, 4))\n",
    "print(ajedrez)"
   ]
  },
  {
   "cell_type": "markdown",
   "id": "3cf8afdf",
   "metadata": {},
   "source": [
    "### EJERCICIO 20\n",
    "Normaliza una matriz aleatoria de 5x5."
   ]
  },
  {
   "cell_type": "code",
   "execution_count": 22,
   "id": "1f6f5aa2",
   "metadata": {},
   "outputs": [
    {
     "name": "stdout",
     "output_type": "stream",
     "text": [
      "[[0.76842616 0.48873153 0.8218595  0.51101133 0.29798818]\n",
      " [0.1252775  0.01741595 0.04565216 0.28670563 0.31789998]\n",
      " [0.84444358 0.84268422 0.52200669 0.23321949 0.78862955]\n",
      " [0.60196049 0.62614766 0.59731475 0.42626024 0.70735134]\n",
      " [0.46181251 0.90805222 0.34938238 0.05536274 0.71420383]]\n"
     ]
    }
   ],
   "source": [
    "# 1) Generar matriz aleatoria 5×5\n",
    "mat = np.random.rand(5, 5)\n",
    "\n",
    "# 2) Normalizar globalmente al rango [0,1]\n",
    "mat_norm = (mat - mat.min()) / (mat.max() - mat.min())\n",
    "print(mat)"
   ]
  },
  {
   "cell_type": "markdown",
   "id": "8656678f",
   "metadata": {},
   "source": [
    "### EJERCICIO 21\n",
    "Create a custom dtype that describes a color as four unisgned bytes"
   ]
  },
  {
   "cell_type": "code",
   "execution_count": 24,
   "id": "c3f3aec7",
   "metadata": {},
   "outputs": [
    {
     "name": "stdout",
     "output_type": "stream",
     "text": [
      "[('r', 'u1', (1,)), ('g', 'u1', (1,)), ('b', 'u1', (1,)), ('a', 'u1', (1,))]\n"
     ]
    }
   ],
   "source": [
    "color = np.dtype([\n",
    "    (\"r\", np.ubyte, 1),\n",
    "    (\"g\", np.ubyte, 1),\n",
    "    (\"b\", np.ubyte, 1),\n",
    "    (\"a\", np.ubyte, 1)])\n",
    "print(color)"
   ]
  },
  {
   "cell_type": "markdown",
   "id": "536ccb98",
   "metadata": {},
   "source": [
    "### EJERCICIO 22\n",
    "Multiplica una matriz de 5×3 por una matriz de 3×2 (producto matricial real)"
   ]
  },
  {
   "cell_type": "code",
   "execution_count": 25,
   "id": "909e7c15",
   "metadata": {},
   "outputs": [
    {
     "name": "stdout",
     "output_type": "stream",
     "text": [
      "[[3. 3.]\n",
      " [3. 3.]\n",
      " [3. 3.]\n",
      " [3. 3.]\n",
      " [3. 3.]]\n"
     ]
    }
   ],
   "source": [
    "Z = np.dot(np.ones((5,3)), np.ones((3,2)))\n",
    "print(Z)"
   ]
  },
  {
   "cell_type": "markdown",
   "id": "5c515d26",
   "metadata": {},
   "source": [
    "### EJERCICIO 23\n",
    "Negativizar elementos en un rango dado"
   ]
  },
  {
   "cell_type": "code",
   "execution_count": 26,
   "id": "78a8b7ec",
   "metadata": {},
   "outputs": [
    {
     "name": "stdout",
     "output_type": "stream",
     "text": [
      "[ 0  1  2  3 -4 -5 -6 -7 -8  9 10]\n"
     ]
    }
   ],
   "source": [
    "Z = np.arange(11)\n",
    "Z[(3 < Z) & (Z <= 8)] *= -1\n",
    "print(Z)"
   ]
  },
  {
   "cell_type": "markdown",
   "id": "4b5ca004",
   "metadata": {},
   "source": [
    "### EJERCICIO 24\n",
    "Sumar rangos con numpy y Python built-in"
   ]
  },
  {
   "cell_type": "code",
   "execution_count": 27,
   "id": "c5fe8d34",
   "metadata": {},
   "outputs": [
    {
     "name": "stdout",
     "output_type": "stream",
     "text": [
      "9\n",
      "10\n"
     ]
    }
   ],
   "source": [
    "print(sum(range(5), -1))\n",
    "from numpy import *\n",
    "print(sum(range(5), -1))"
   ]
  },
  {
   "cell_type": "markdown",
   "id": "49fb22db",
   "metadata": {},
   "source": [
    "### EJERCICIO 25\n",
    "Operaciones bitwise y aritméticas diversas"
   ]
  },
  {
   "cell_type": "code",
   "execution_count": null,
   "id": "8ec5741f",
   "metadata": {},
   "outputs": [],
   "source": [
    "# Z**Z\n",
    "# 2 << Z >> 2\n",
    "# Z < -Z\n",
    "# 1j * Z\n",
    "# Z / 1 / 1\n",
    "# Z < Z > Z"
   ]
  },
  {
   "cell_type": "markdown",
   "id": "e72a5301",
   "metadata": {},
   "source": [
    "### EJERCICIO 26\n",
    "Division and floor division edge cases"
   ]
  },
  {
   "cell_type": "code",
   "execution_count": 28,
   "id": "5dfd6c4a",
   "metadata": {},
   "outputs": [
    {
     "name": "stdout",
     "output_type": "stream",
     "text": [
      "0\n",
      "nan\n",
      "nan\n",
      "nan\n"
     ]
    },
    {
     "name": "stderr",
     "output_type": "stream",
     "text": [
      "C:\\Users\\56997\\AppData\\Local\\Temp\\ipykernel_10756\\2371707608.py:1: RuntimeWarning: divide by zero encountered in floor_divide\n",
      "  print(np.array(0) // np.array(0))\n",
      "C:\\Users\\56997\\AppData\\Local\\Temp\\ipykernel_10756\\2371707608.py:2: RuntimeWarning: invalid value encountered in floor_divide\n",
      "  print(np.array(0) // np.array(0.))\n",
      "C:\\Users\\56997\\AppData\\Local\\Temp\\ipykernel_10756\\2371707608.py:3: RuntimeWarning: invalid value encountered in divide\n",
      "  print(np.array(0) / np.array(0))\n",
      "C:\\Users\\56997\\AppData\\Local\\Temp\\ipykernel_10756\\2371707608.py:4: RuntimeWarning: invalid value encountered in divide\n",
      "  print(np.array(0) / np.array(0.))\n"
     ]
    }
   ],
   "source": [
    "print(np.array(0) // np.array(0))\n",
    "print(np.array(0) // np.array(0.))\n",
    "print(np.array(0) / np.array(0))\n",
    "print(np.array(0) / np.array(0.))"
   ]
  },
  {
   "cell_type": "markdown",
   "id": "6c2a3f28",
   "metadata": {},
   "source": [
    "### EJERCICIO 27\n",
    "Redondear números uniformes con truncamiento"
   ]
  },
  {
   "cell_type": "code",
   "execution_count": 29,
   "id": "5152b598",
   "metadata": {},
   "outputs": [
    {
     "name": "stdout",
     "output_type": "stream",
     "text": [
      "[-7. -1. -5.  5.  5.  2. -3. -0.  5. -3.]\n"
     ]
    }
   ],
   "source": [
    "Z = np.random.uniform(-10, +10, 10)\n",
    "print(np.trunc(Z + np.copysign(0.5, Z)))"
   ]
  },
  {
   "cell_type": "markdown",
   "id": "a19cbf9b",
   "metadata": {},
   "source": [
    "### EJERCICIO 28\n",
    "Obtener partes enteras de números aleatorios"
   ]
  },
  {
   "cell_type": "code",
   "execution_count": 30,
   "id": "11299eda",
   "metadata": {},
   "outputs": [
    {
     "name": "stdout",
     "output_type": "stream",
     "text": [
      "[5. 1. 5. 2. 6. 0. 5. 6. 7. 7.]\n",
      "[5. 1. 5. 2. 6. 0. 5. 6. 7. 7.]\n",
      "[5. 1. 5. 2. 6. 0. 5. 6. 7. 7.]\n",
      "[5 1 5 2 6 0 5 6 7 7]\n",
      "[5. 1. 5. 2. 6. 0. 5. 6. 7. 7.]\n"
     ]
    }
   ],
   "source": [
    "Z = np.random.uniform(0, 10, 10)\n",
    "print(Z - Z % 1)\n",
    "print(np.floor(Z))\n",
    "print(np.ceil(Z) - 1)\n",
    "print(Z.astype(int))\n",
    "print(np.trunc(Z))"
   ]
  },
  {
   "cell_type": "markdown",
   "id": "b431dd5f",
   "metadata": {},
   "source": [
    "### EJERCICIO 29\n",
    "Añadir vectores en matrices"
   ]
  },
  {
   "cell_type": "code",
   "execution_count": 31,
   "id": "4c5f23e2",
   "metadata": {},
   "outputs": [
    {
     "name": "stdout",
     "output_type": "stream",
     "text": [
      "[[0. 1. 2. 3. 4.]\n",
      " [0. 1. 2. 3. 4.]\n",
      " [0. 1. 2. 3. 4.]\n",
      " [0. 1. 2. 3. 4.]\n",
      " [0. 1. 2. 3. 4.]]\n"
     ]
    }
   ],
   "source": [
    "Z = np.zeros((5,5))\n",
    "Z += np.arange(5)\n",
    "print(Z)"
   ]
  },
  {
   "cell_type": "markdown",
   "id": "49d94e2b",
   "metadata": {},
   "source": [
    "### EJERCICIO 30\n",
    "Crear un array desde un generador"
   ]
  },
  {
   "cell_type": "code",
   "execution_count": 32,
   "id": "bf76966f",
   "metadata": {},
   "outputs": [
    {
     "name": "stdout",
     "output_type": "stream",
     "text": [
      "[0. 1. 2. 3. 4. 5. 6. 7. 8. 9.]\n"
     ]
    }
   ],
   "source": [
    "def generate():\n",
    "    for x in range(10): yield x\n",
    "Z = np.fromiter(generate(), dtype=float, count=-1)\n",
    "print(Z)"
   ]
  },
  {
   "cell_type": "markdown",
   "id": "b61220ca",
   "metadata": {},
   "source": [
    "### EJERCICIO 31\n",
    "Generar valores intermedios con linspace"
   ]
  },
  {
   "cell_type": "code",
   "execution_count": 33,
   "id": "99c799b6",
   "metadata": {},
   "outputs": [
    {
     "name": "stdout",
     "output_type": "stream",
     "text": [
      "[0.09090909 0.18181818 0.27272727 0.36363636 0.45454545 0.54545455\n",
      " 0.63636364 0.72727273 0.81818182 0.90909091]\n"
     ]
    }
   ],
   "source": [
    "Z = np.linspace(0, 1, 12, endpoint=True)[1:-1]\n",
    "print(Z)\n"
   ]
  },
  {
   "cell_type": "markdown",
   "id": "6d0e0037",
   "metadata": {},
   "source": [
    "### EJERCICIO 32\n",
    "Ordenar un vector aleatorio"
   ]
  },
  {
   "cell_type": "code",
   "execution_count": 34,
   "id": "2fde75f2",
   "metadata": {},
   "outputs": [
    {
     "name": "stdout",
     "output_type": "stream",
     "text": [
      "[0.08928306 0.146392   0.17790951 0.19002469 0.27767787 0.3384577\n",
      " 0.3677248  0.56005184 0.64149597 0.72025064]\n"
     ]
    }
   ],
   "source": [
    "Z = np.random.random(10)\n",
    "Z.sort()\n",
    "print(Z)"
   ]
  },
  {
   "cell_type": "markdown",
   "id": "509752f4",
   "metadata": {},
   "source": [
    "### EJERCICIO 33\n",
    "Sumar todos los elementos de un array"
   ]
  },
  {
   "cell_type": "code",
   "execution_count": 39,
   "id": "d8b0b544",
   "metadata": {},
   "outputs": [
    {
     "name": "stdout",
     "output_type": "stream",
     "text": [
      "45\n"
     ]
    }
   ],
   "source": [
    "Z = np.arange(10)\n",
    "print(np.add.reduce(Z))"
   ]
  },
  {
   "cell_type": "markdown",
   "id": "2727b9de",
   "metadata": {},
   "source": [
    "### EJERCICIO 34\n",
    "Comparar arrays booleanos"
   ]
  },
  {
   "cell_type": "code",
   "execution_count": 40,
   "id": "4b7f00c8",
   "metadata": {},
   "outputs": [
    {
     "name": "stdout",
     "output_type": "stream",
     "text": [
      "False\n"
     ]
    }
   ],
   "source": [
    "A = np.random.randint(0,2,5)\n",
    "B = np.random.randint(0,2,5)\n",
    "print(np.allclose(A,B))"
   ]
  },
  {
   "cell_type": "markdown",
   "id": "710a4f61",
   "metadata": {},
   "source": [
    "### EJERCICIO 35\n",
    "Hacer un array no modificable"
   ]
  },
  {
   "cell_type": "code",
   "execution_count": 43,
   "id": "e0e8aa83",
   "metadata": {},
   "outputs": [
    {
     "name": "stdout",
     "output_type": "stream",
     "text": [
      "[0. 0. 0. 0. 0. 0. 0. 0. 0. 0.]\n"
     ]
    }
   ],
   "source": [
    "Z = np.zeros(10)\n",
    "Z.flags.writeable = False\n",
    "# Z[0] = 1 generará error\n",
    "print(Z)"
   ]
  },
  {
   "cell_type": "markdown",
   "id": "74b98df5",
   "metadata": {},
   "source": [
    "### EJERCICIO 36\n",
    "Convertir coordenadas cartesianas a polares"
   ]
  },
  {
   "cell_type": "code",
   "execution_count": 46,
   "id": "e5cacc5a",
   "metadata": {},
   "outputs": [
    {
     "name": "stdout",
     "output_type": "stream",
     "text": [
      "Esta es la R  [0.69714593 0.30840323 0.58271948 0.81628553 0.77888234 0.77592936\n",
      " 0.87276417 0.87324266 0.80303556 0.48136218]\n",
      "Esta es la T  [0.669364   0.05652725 1.51676033 0.79736732 0.01631222 0.05176193\n",
      " 0.4789235  1.3154792  0.27661538 0.07602292]\n"
     ]
    }
   ],
   "source": [
    "Z = np.random.random((10,2))\n",
    "X, Y = Z[:,0], Z[:,1]\n",
    "R = np.sqrt(X**2 + Y**2)\n",
    "T = np.arctan2(Y, X)\n",
    "print(\"Esta es la R \", R)\n",
    "print(\"Esta es la T \", T)"
   ]
  },
  {
   "cell_type": "markdown",
   "id": "6f1319d6",
   "metadata": {},
   "source": [
    "### EJERCICIO 37\n",
    "Remplazar el valor maximo por cero\n"
   ]
  },
  {
   "cell_type": "code",
   "execution_count": 47,
   "id": "46c45378",
   "metadata": {},
   "outputs": [
    {
     "name": "stdout",
     "output_type": "stream",
     "text": [
      "[0.54701226 0.03497119 0.3879622  0.35954123 0.27687125 0.93176758\n",
      " 0.         0.01158946 0.35207096 0.49847   ]\n"
     ]
    }
   ],
   "source": [
    "Z = np.random.random(10)\n",
    "Z[Z.argmax()] = 0\n",
    "print(Z)"
   ]
  },
  {
   "cell_type": "markdown",
   "id": "e5f0cbbf",
   "metadata": {},
   "source": [
    "### EJERCICIO 38\n",
    "Crear un array estructurado con malla 10×10"
   ]
  },
  {
   "cell_type": "code",
   "execution_count": 48,
   "id": "8d2c1202",
   "metadata": {},
   "outputs": [
    {
     "name": "stdout",
     "output_type": "stream",
     "text": [
      "[[(0.        , 0.        ) (0.11111111, 0.        )\n",
      "  (0.22222222, 0.        ) (0.33333333, 0.        )\n",
      "  (0.44444444, 0.        ) (0.55555556, 0.        )\n",
      "  (0.66666667, 0.        ) (0.77777778, 0.        )\n",
      "  (0.88888889, 0.        ) (1.        , 0.        )]\n",
      " [(0.        , 0.11111111) (0.11111111, 0.11111111)\n",
      "  (0.22222222, 0.11111111) (0.33333333, 0.11111111)\n",
      "  (0.44444444, 0.11111111) (0.55555556, 0.11111111)\n",
      "  (0.66666667, 0.11111111) (0.77777778, 0.11111111)\n",
      "  (0.88888889, 0.11111111) (1.        , 0.11111111)]\n",
      " [(0.        , 0.22222222) (0.11111111, 0.22222222)\n",
      "  (0.22222222, 0.22222222) (0.33333333, 0.22222222)\n",
      "  (0.44444444, 0.22222222) (0.55555556, 0.22222222)\n",
      "  (0.66666667, 0.22222222) (0.77777778, 0.22222222)\n",
      "  (0.88888889, 0.22222222) (1.        , 0.22222222)]\n",
      " [(0.        , 0.33333333) (0.11111111, 0.33333333)\n",
      "  (0.22222222, 0.33333333) (0.33333333, 0.33333333)\n",
      "  (0.44444444, 0.33333333) (0.55555556, 0.33333333)\n",
      "  (0.66666667, 0.33333333) (0.77777778, 0.33333333)\n",
      "  (0.88888889, 0.33333333) (1.        , 0.33333333)]\n",
      " [(0.        , 0.44444444) (0.11111111, 0.44444444)\n",
      "  (0.22222222, 0.44444444) (0.33333333, 0.44444444)\n",
      "  (0.44444444, 0.44444444) (0.55555556, 0.44444444)\n",
      "  (0.66666667, 0.44444444) (0.77777778, 0.44444444)\n",
      "  (0.88888889, 0.44444444) (1.        , 0.44444444)]\n",
      " [(0.        , 0.55555556) (0.11111111, 0.55555556)\n",
      "  (0.22222222, 0.55555556) (0.33333333, 0.55555556)\n",
      "  (0.44444444, 0.55555556) (0.55555556, 0.55555556)\n",
      "  (0.66666667, 0.55555556) (0.77777778, 0.55555556)\n",
      "  (0.88888889, 0.55555556) (1.        , 0.55555556)]\n",
      " [(0.        , 0.66666667) (0.11111111, 0.66666667)\n",
      "  (0.22222222, 0.66666667) (0.33333333, 0.66666667)\n",
      "  (0.44444444, 0.66666667) (0.55555556, 0.66666667)\n",
      "  (0.66666667, 0.66666667) (0.77777778, 0.66666667)\n",
      "  (0.88888889, 0.66666667) (1.        , 0.66666667)]\n",
      " [(0.        , 0.77777778) (0.11111111, 0.77777778)\n",
      "  (0.22222222, 0.77777778) (0.33333333, 0.77777778)\n",
      "  (0.44444444, 0.77777778) (0.55555556, 0.77777778)\n",
      "  (0.66666667, 0.77777778) (0.77777778, 0.77777778)\n",
      "  (0.88888889, 0.77777778) (1.        , 0.77777778)]\n",
      " [(0.        , 0.88888889) (0.11111111, 0.88888889)\n",
      "  (0.22222222, 0.88888889) (0.33333333, 0.88888889)\n",
      "  (0.44444444, 0.88888889) (0.55555556, 0.88888889)\n",
      "  (0.66666667, 0.88888889) (0.77777778, 0.88888889)\n",
      "  (0.88888889, 0.88888889) (1.        , 0.88888889)]\n",
      " [(0.        , 1.        ) (0.11111111, 1.        )\n",
      "  (0.22222222, 1.        ) (0.33333333, 1.        )\n",
      "  (0.44444444, 1.        ) (0.55555556, 1.        )\n",
      "  (0.66666667, 1.        ) (0.77777778, 1.        )\n",
      "  (0.88888889, 1.        ) (1.        , 1.        )]]\n"
     ]
    }
   ],
   "source": [
    "Z = np.zeros((10,10), [('x', float), ('y', float)])\n",
    "Z['x'], Z['y'] = np.meshgrid(np.linspace(0,1,10), np.linspace(0,1,10))\n",
    "print(Z)"
   ]
  },
  {
   "cell_type": "markdown",
   "id": "d8934aa2",
   "metadata": {},
   "source": [
    "### EJERCICIO 39\n",
    "Determinante de una matriz definida por outer subtraction"
   ]
  },
  {
   "cell_type": "code",
   "execution_count": 49,
   "id": "3275970c",
   "metadata": {},
   "outputs": [
    {
     "name": "stdout",
     "output_type": "stream",
     "text": [
      "3638.163637117973\n"
     ]
    }
   ],
   "source": [
    "X = np.arange(8)\n",
    "Y = X + 0.5\n",
    "C = 1.0 / np.subtract.outer(X, Y)\n",
    "print(np.linalg.det(C))"
   ]
  },
  {
   "cell_type": "markdown",
   "id": "f6149aa6",
   "metadata": {},
   "source": [
    "### EJERCICIO 40\n",
    "Obtener límites de tipos enteros y flotantes"
   ]
  },
  {
   "cell_type": "code",
   "execution_count": 50,
   "id": "11026cb6",
   "metadata": {},
   "outputs": [
    {
     "name": "stdout",
     "output_type": "stream",
     "text": [
      "-128 127\n",
      "-2147483648 2147483647\n",
      "-9223372036854775808 9223372036854775807\n",
      "-3.4028235e+38 3.4028235e+38 1.1920929e-07\n",
      "-1.7976931348623157e+308 1.7976931348623157e+308 2.220446049250313e-16\n"
     ]
    }
   ],
   "source": [
    "for dtype in [np.int8, np.int32, np.int64]:\n",
    "    print(np.iinfo(dtype).min, np.iinfo(dtype).max)\n",
    "for dtype in [np.float32, np.float64]:\n",
    "    print(np.finfo(dtype).min, np.finfo(dtype).max, np.finfo(dtype).eps)"
   ]
  },
  {
   "cell_type": "markdown",
   "id": "27321620",
   "metadata": {},
   "source": [
    "### EJERCICIO 41\n",
    "Configurar printoptions para matrices grandes"
   ]
  },
  {
   "cell_type": "code",
   "execution_count": 51,
   "id": "0bbd64ee",
   "metadata": {},
   "outputs": [
    {
     "name": "stdout",
     "output_type": "stream",
     "text": [
      "[[0. 0. 0. 0. 0. 0. 0. 0. 0. 0. 0. 0. 0. 0. 0. 0. 0. 0. 0. 0. 0. 0. 0. 0.\n",
      "  0.]\n",
      " [0. 0. 0. 0. 0. 0. 0. 0. 0. 0. 0. 0. 0. 0. 0. 0. 0. 0. 0. 0. 0. 0. 0. 0.\n",
      "  0.]\n",
      " [0. 0. 0. 0. 0. 0. 0. 0. 0. 0. 0. 0. 0. 0. 0. 0. 0. 0. 0. 0. 0. 0. 0. 0.\n",
      "  0.]\n",
      " [0. 0. 0. 0. 0. 0. 0. 0. 0. 0. 0. 0. 0. 0. 0. 0. 0. 0. 0. 0. 0. 0. 0. 0.\n",
      "  0.]\n",
      " [0. 0. 0. 0. 0. 0. 0. 0. 0. 0. 0. 0. 0. 0. 0. 0. 0. 0. 0. 0. 0. 0. 0. 0.\n",
      "  0.]\n",
      " [0. 0. 0. 0. 0. 0. 0. 0. 0. 0. 0. 0. 0. 0. 0. 0. 0. 0. 0. 0. 0. 0. 0. 0.\n",
      "  0.]\n",
      " [0. 0. 0. 0. 0. 0. 0. 0. 0. 0. 0. 0. 0. 0. 0. 0. 0. 0. 0. 0. 0. 0. 0. 0.\n",
      "  0.]\n",
      " [0. 0. 0. 0. 0. 0. 0. 0. 0. 0. 0. 0. 0. 0. 0. 0. 0. 0. 0. 0. 0. 0. 0. 0.\n",
      "  0.]\n",
      " [0. 0. 0. 0. 0. 0. 0. 0. 0. 0. 0. 0. 0. 0. 0. 0. 0. 0. 0. 0. 0. 0. 0. 0.\n",
      "  0.]\n",
      " [0. 0. 0. 0. 0. 0. 0. 0. 0. 0. 0. 0. 0. 0. 0. 0. 0. 0. 0. 0. 0. 0. 0. 0.\n",
      "  0.]\n",
      " [0. 0. 0. 0. 0. 0. 0. 0. 0. 0. 0. 0. 0. 0. 0. 0. 0. 0. 0. 0. 0. 0. 0. 0.\n",
      "  0.]\n",
      " [0. 0. 0. 0. 0. 0. 0. 0. 0. 0. 0. 0. 0. 0. 0. 0. 0. 0. 0. 0. 0. 0. 0. 0.\n",
      "  0.]\n",
      " [0. 0. 0. 0. 0. 0. 0. 0. 0. 0. 0. 0. 0. 0. 0. 0. 0. 0. 0. 0. 0. 0. 0. 0.\n",
      "  0.]\n",
      " [0. 0. 0. 0. 0. 0. 0. 0. 0. 0. 0. 0. 0. 0. 0. 0. 0. 0. 0. 0. 0. 0. 0. 0.\n",
      "  0.]\n",
      " [0. 0. 0. 0. 0. 0. 0. 0. 0. 0. 0. 0. 0. 0. 0. 0. 0. 0. 0. 0. 0. 0. 0. 0.\n",
      "  0.]\n",
      " [0. 0. 0. 0. 0. 0. 0. 0. 0. 0. 0. 0. 0. 0. 0. 0. 0. 0. 0. 0. 0. 0. 0. 0.\n",
      "  0.]\n",
      " [0. 0. 0. 0. 0. 0. 0. 0. 0. 0. 0. 0. 0. 0. 0. 0. 0. 0. 0. 0. 0. 0. 0. 0.\n",
      "  0.]\n",
      " [0. 0. 0. 0. 0. 0. 0. 0. 0. 0. 0. 0. 0. 0. 0. 0. 0. 0. 0. 0. 0. 0. 0. 0.\n",
      "  0.]\n",
      " [0. 0. 0. 0. 0. 0. 0. 0. 0. 0. 0. 0. 0. 0. 0. 0. 0. 0. 0. 0. 0. 0. 0. 0.\n",
      "  0.]\n",
      " [0. 0. 0. 0. 0. 0. 0. 0. 0. 0. 0. 0. 0. 0. 0. 0. 0. 0. 0. 0. 0. 0. 0. 0.\n",
      "  0.]\n",
      " [0. 0. 0. 0. 0. 0. 0. 0. 0. 0. 0. 0. 0. 0. 0. 0. 0. 0. 0. 0. 0. 0. 0. 0.\n",
      "  0.]\n",
      " [0. 0. 0. 0. 0. 0. 0. 0. 0. 0. 0. 0. 0. 0. 0. 0. 0. 0. 0. 0. 0. 0. 0. 0.\n",
      "  0.]\n",
      " [0. 0. 0. 0. 0. 0. 0. 0. 0. 0. 0. 0. 0. 0. 0. 0. 0. 0. 0. 0. 0. 0. 0. 0.\n",
      "  0.]\n",
      " [0. 0. 0. 0. 0. 0. 0. 0. 0. 0. 0. 0. 0. 0. 0. 0. 0. 0. 0. 0. 0. 0. 0. 0.\n",
      "  0.]\n",
      " [0. 0. 0. 0. 0. 0. 0. 0. 0. 0. 0. 0. 0. 0. 0. 0. 0. 0. 0. 0. 0. 0. 0. 0.\n",
      "  0.]]\n"
     ]
    }
   ],
   "source": [
    "np.set_printoptions(threshold=np.inf)\n",
    "Z = np.zeros((25,25))\n",
    "print(Z)"
   ]
  },
  {
   "cell_type": "markdown",
   "id": "a421536f",
   "metadata": {},
   "source": [
    "### EJERCICIO 42\n",
    "Encontrar el valor más cercano en un vector"
   ]
  },
  {
   "cell_type": "code",
   "execution_count": null,
   "id": "1aa9429d",
   "metadata": {},
   "outputs": [
    {
     "name": "stdout",
     "output_type": "stream",
     "text": [
      "30\n"
     ]
    }
   ],
   "source": [
    "Z = np.arange(100)\n",
    "v = np.random.uniform(0,100)\n",
    "index = (np.abs(Z - v)).argmin()\n",
    "print(Z[index])"
   ]
  },
  {
   "cell_type": "markdown",
   "id": "82c287bc",
   "metadata": {},
   "source": [
    "### EJERCICIO 43\n",
    "Estructurar posiciones y colores en un array"
   ]
  },
  {
   "cell_type": "code",
   "execution_count": 55,
   "id": "495ad128",
   "metadata": {},
   "outputs": [
    {
     "name": "stdout",
     "output_type": "stream",
     "text": [
      "[(([0.], [0.]), ([0.], [0.], [0.])) (([0.], [0.]), ([0.], [0.], [0.]))\n",
      " (([0.], [0.]), ([0.], [0.], [0.])) (([0.], [0.]), ([0.], [0.], [0.]))\n",
      " (([0.], [0.]), ([0.], [0.], [0.])) (([0.], [0.]), ([0.], [0.], [0.]))\n",
      " (([0.], [0.]), ([0.], [0.], [0.])) (([0.], [0.]), ([0.], [0.], [0.]))\n",
      " (([0.], [0.]), ([0.], [0.], [0.])) (([0.], [0.]), ([0.], [0.], [0.]))]\n"
     ]
    }
   ],
   "source": [
    "Z = np.zeros(10, dtype=[('position',[('x',float,1),('y',float,1)]),('color',[('r',float,1),('g',float,1),('b',float,1)])])\n",
    "print(Z)"
   ]
  },
  {
   "cell_type": "markdown",
   "id": "a7dde8e2",
   "metadata": {},
   "source": [
    "### EJERCICIO 44\n",
    "Calcular distancias con scipy.spatial"
   ]
  },
  {
   "cell_type": "code",
   "execution_count": 56,
   "id": "864b6ab2",
   "metadata": {},
   "outputs": [
    {
     "name": "stdout",
     "output_type": "stream",
     "text": [
      "[[0.         0.69715326 0.31735692 1.09408487 0.27587961 1.08147122\n",
      "  0.37677345 0.43363228 1.16777041 0.7697314 ]\n",
      " [0.69715326 0.         0.40092126 0.58011549 0.52585588 0.41778672\n",
      "  0.343978   0.31383023 0.58130543 0.09650767]\n",
      " [0.31735692 0.40092126 0.         0.78698963 0.14118118 0.76573061\n",
      "  0.18707811 0.11709751 0.85288311 0.48588984]\n",
      " [1.09408487 0.58011549 0.78698963 0.         0.8291253  0.32566902\n",
      "  0.85260534 0.67171293 0.14331533 0.61408023]\n",
      " [0.27587961 0.52585588 0.14118118 0.8291253  0.         0.85757556\n",
      "  0.31950723 0.21436688 0.91395791 0.61573002]\n",
      " [1.08147122 0.41778672 0.76573061 0.32566902 0.85757556 0.\n",
      "  0.75638326 0.65321882 0.23155391 0.40014867]\n",
      " [0.37677345 0.343978   0.18707811 0.85260534 0.31950723 0.75638326\n",
      "  0.         0.22907809 0.89006972 0.40205238]\n",
      " [0.43363228 0.31383023 0.11709751 0.67171293 0.21436688 0.65321882\n",
      "  0.22907809 0.         0.73578941 0.40640184]\n",
      " [1.16777041 0.58130543 0.85288311 0.14331533 0.91395791 0.23155391\n",
      "  0.89006972 0.73578941 0.         0.59262208]\n",
      " [0.7697314  0.09650767 0.48588984 0.61408023 0.61573002 0.40014867\n",
      "  0.40205238 0.40640184 0.59262208 0.        ]]\n"
     ]
    }
   ],
   "source": [
    "import scipy.spatial\n",
    "d = np.random.random((10,2))\n",
    "D = scipy.spatial.distance.cdist(d,d)\n",
    "print(D)"
   ]
  },
  {
   "cell_type": "markdown",
   "id": "19b27e0c",
   "metadata": {},
   "source": [
    "### EJERCICIO 45\n",
    "Convertir tipo de datos sin copiar"
   ]
  },
  {
   "cell_type": "code",
   "execution_count": 57,
   "id": "082b6202",
   "metadata": {},
   "outputs": [
    {
     "name": "stdout",
     "output_type": "stream",
     "text": [
      "[0. 1. 2. 3. 4. 5. 6. 7. 8. 9.]\n"
     ]
    }
   ],
   "source": [
    "Z = np.arange(10, dtype=np.int32)\n",
    "Z = Z.astype(np.float32, copy=False)\n",
    "print(Z)"
   ]
  },
  {
   "cell_type": "markdown",
   "id": "83fa52f3",
   "metadata": {},
   "source": [
    "### EJERCICIO 46\n",
    "Leer datos de un archivo con genfromtxt"
   ]
  },
  {
   "cell_type": "code",
   "execution_count": 60,
   "id": "847e8690",
   "metadata": {},
   "outputs": [],
   "source": [
    "import urllib.request\n",
    "url = \"https://people.sc.fsu.edu/~jburkardt/data/csv/airtravel.csv\"\n",
    "response = urllib.request.urlopen(url)\n",
    "data = response.read().decode('utf-8').splitlines()\n",
    "Z = np.genfromtxt(data, delimiter=\",\", skip_header=1)"
   ]
  },
  {
   "cell_type": "markdown",
   "id": "2405a60e",
   "metadata": {},
   "source": [
    "### EJERCICIO 47\n",
    "Enumerar elementos con ndenumerate y ndindex"
   ]
  },
  {
   "cell_type": "code",
   "execution_count": 61,
   "id": "a76dfc24",
   "metadata": {},
   "outputs": [
    {
     "name": "stdout",
     "output_type": "stream",
     "text": [
      "(0, 0) 0\n",
      "(0, 1) 1\n",
      "(0, 2) 2\n",
      "(1, 0) 3\n",
      "(1, 1) 4\n",
      "(1, 2) 5\n",
      "(2, 0) 6\n",
      "(2, 1) 7\n",
      "(2, 2) 8\n",
      "(0, 0) 0\n",
      "(0, 1) 1\n",
      "(0, 2) 2\n",
      "(1, 0) 3\n",
      "(1, 1) 4\n",
      "(1, 2) 5\n",
      "(2, 0) 6\n",
      "(2, 1) 7\n",
      "(2, 2) 8\n"
     ]
    }
   ],
   "source": [
    "Z = np.arange(9).reshape(3,3)\n",
    "for idx, val in np.ndenumerate(Z): print(idx, val)\n",
    "for idx in np.ndindex(Z.shape): print(idx, Z[idx])"
   ]
  },
  {
   "cell_type": "markdown",
   "id": "9b18c05a",
   "metadata": {},
   "source": [
    "### EJERCICIO 48\n",
    "Generar una matriz Gaussiana 2D"
   ]
  },
  {
   "cell_type": "code",
   "execution_count": 62,
   "id": "c16b25d9",
   "metadata": {},
   "outputs": [
    {
     "name": "stdout",
     "output_type": "stream",
     "text": [
      "[[0.36787944 0.44822088 0.51979489 0.57375342 0.60279818 0.60279818\n",
      "  0.57375342 0.51979489 0.44822088 0.36787944]\n",
      " [0.44822088 0.54610814 0.63331324 0.69905581 0.73444367 0.73444367\n",
      "  0.69905581 0.63331324 0.54610814 0.44822088]\n",
      " [0.51979489 0.63331324 0.73444367 0.81068432 0.85172308 0.85172308\n",
      "  0.81068432 0.73444367 0.63331324 0.51979489]\n",
      " [0.57375342 0.69905581 0.81068432 0.89483932 0.9401382  0.9401382\n",
      "  0.89483932 0.81068432 0.69905581 0.57375342]\n",
      " [0.60279818 0.73444367 0.85172308 0.9401382  0.98773022 0.98773022\n",
      "  0.9401382  0.85172308 0.73444367 0.60279818]\n",
      " [0.60279818 0.73444367 0.85172308 0.9401382  0.98773022 0.98773022\n",
      "  0.9401382  0.85172308 0.73444367 0.60279818]\n",
      " [0.57375342 0.69905581 0.81068432 0.89483932 0.9401382  0.9401382\n",
      "  0.89483932 0.81068432 0.69905581 0.57375342]\n",
      " [0.51979489 0.63331324 0.73444367 0.81068432 0.85172308 0.85172308\n",
      "  0.81068432 0.73444367 0.63331324 0.51979489]\n",
      " [0.44822088 0.54610814 0.63331324 0.69905581 0.73444367 0.73444367\n",
      "  0.69905581 0.63331324 0.54610814 0.44822088]\n",
      " [0.36787944 0.44822088 0.51979489 0.57375342 0.60279818 0.60279818\n",
      "  0.57375342 0.51979489 0.44822088 0.36787944]]\n"
     ]
    }
   ],
   "source": [
    "X, Y = np.meshgrid(np.linspace(-1,1,10), np.linspace(-1,1,10))\n",
    "D = np.sqrt(X*X + Y*Y)\n",
    "sigma, mu = 1.0, 0.0\n",
    "G = np.exp(-((D-mu)**2 / (2.0*sigma**2)))\n",
    "print(G)"
   ]
  },
  {
   "cell_type": "markdown",
   "id": "1aefb073",
   "metadata": {},
   "source": [
    "### EJERCICIO 49\n",
    "Poner valores 1 de forma aleatoria en una matriz"
   ]
  },
  {
   "cell_type": "code",
   "execution_count": 63,
   "id": "a72318f0",
   "metadata": {},
   "outputs": [
    {
     "name": "stdout",
     "output_type": "stream",
     "text": [
      "[[0. 0. 0. 0. 0. 0. 0. 0. 1. 0.]\n",
      " [0. 0. 0. 0. 0. 0. 0. 0. 0. 0.]\n",
      " [0. 0. 0. 0. 0. 0. 0. 1. 0. 0.]\n",
      " [0. 0. 0. 0. 0. 0. 0. 0. 0. 0.]\n",
      " [0. 0. 0. 0. 0. 0. 0. 0. 0. 0.]\n",
      " [0. 0. 0. 0. 0. 0. 0. 0. 0. 0.]\n",
      " [0. 0. 0. 0. 0. 0. 0. 0. 0. 0.]\n",
      " [0. 0. 0. 0. 0. 0. 0. 0. 0. 0.]\n",
      " [0. 0. 0. 0. 0. 0. 0. 0. 0. 0.]\n",
      " [0. 0. 0. 0. 0. 1. 0. 0. 0. 0.]]\n"
     ]
    }
   ],
   "source": [
    "n, p = 10, 3\n",
    "Z = np.zeros((n,n))\n",
    "np.put(Z, np.random.choice(n*n, p, replace=False), 1)\n",
    "print(Z)"
   ]
  },
  {
   "cell_type": "markdown",
   "id": "a0d5c6e9",
   "metadata": {},
   "source": [
    "### EJERCICIO 50\n",
    "Centrar datos restando la media por fila"
   ]
  },
  {
   "cell_type": "code",
   "execution_count": 67,
   "id": "d3f3a030",
   "metadata": {},
   "outputs": [
    {
     "name": "stdout",
     "output_type": "stream",
     "text": [
      "[[-0.30731179  0.12827921  0.52757963 -0.27768512  0.37455416  0.09954349\n",
      "  -0.2113045   0.04455668 -0.17555315 -0.20265861]\n",
      " [ 0.28991255  0.06298696  0.17353039  0.0271414   0.26867634  0.08398543\n",
      "  -0.36360723 -0.32889971  0.22681785 -0.44054399]\n",
      " [ 0.28805707  0.02268923 -0.06243214 -0.52545564 -0.05598517  0.17952402\n",
      "   0.06282694  0.1484058  -0.30105642  0.2434263 ]\n",
      " [ 0.04524512 -0.40490437  0.32319856 -0.00602306  0.30695368 -0.49913737\n",
      "   0.41017385 -0.50289942  0.22574543  0.10164757]\n",
      " [ 0.03170657  0.5028098  -0.1213321  -0.30772168 -0.0888152  -0.23278414\n",
      "   0.00533481 -0.18682498 -0.14228202  0.53990894]]\n"
     ]
    }
   ],
   "source": [
    "X = np.random.rand(5,10)\n",
    "Y = X - X.mean(axis=1, keepdims=True)\n",
    "print(Y)"
   ]
  },
  {
   "cell_type": "markdown",
   "id": "e6f825c5",
   "metadata": {},
   "source": [
    "### EJERCICIO 51\n",
    "Normalizar matriz aleatoria 5×5"
   ]
  },
  {
   "cell_type": "code",
   "execution_count": 68,
   "id": "7bb46331",
   "metadata": {},
   "outputs": [
    {
     "name": "stdout",
     "output_type": "stream",
     "text": [
      "[[0.44508914 0.06004767 0.35109547 0.08816394 0.65369961]\n",
      " [0.95319715 0.47703444 0.63537408 0.65290711 0.55361288]\n",
      " [0.09732618 0.39721939 0.14310047 0.10539153 0.67530422]\n",
      " [0.71201501 0.81495838 0.4321633  0.48394867 0.90638335]\n",
      " [0.3167876  0.66589229 1.         0.37352306 0.        ]]\n"
     ]
    }
   ],
   "source": [
    "M=np.random.rand(5,5)\n",
    "print((M-M.min())/(M.max()-M.min()))"
   ]
  },
  {
   "cell_type": "markdown",
   "id": "20c9560e",
   "metadata": {},
   "source": [
    "### EJERCICIO 52\n",
    "Multiplicar matriz 5×3 por 3×2"
   ]
  },
  {
   "cell_type": "code",
   "execution_count": 69,
   "id": "3c7caff9",
   "metadata": {},
   "outputs": [
    {
     "name": "stdout",
     "output_type": "stream",
     "text": [
      "[[0.57343767 0.32710457]\n",
      " [0.14727939 0.12955455]\n",
      " [0.44064415 0.41224271]\n",
      " [0.45693755 0.36057768]\n",
      " [0.33343555 0.22017758]]\n"
     ]
    }
   ],
   "source": [
    "A=np.random.rand(5,3);B=np.random.rand(3,2)\n",
    "print(A.dot(B))"
   ]
  },
  {
   "cell_type": "markdown",
   "id": "d1e69458",
   "metadata": {},
   "source": [
    "### EJERCICIO 53\n",
    "Dividir array 1D de tamaño 20 en 4 partes"
   ]
  },
  {
   "cell_type": "code",
   "execution_count": 70,
   "id": "a661ef21",
   "metadata": {},
   "outputs": [
    {
     "name": "stdout",
     "output_type": "stream",
     "text": [
      "[array([0, 1, 2, 3, 4]), array([5, 6, 7, 8, 9]), array([10, 11, 12, 13, 14]), array([15, 16, 17, 18, 19])]\n"
     ]
    }
   ],
   "source": [
    "Z=np.arange(20)\n",
    "print(np.array_split(Z,4))"
   ]
  },
  {
   "cell_type": "markdown",
   "id": "016ba1e5",
   "metadata": {},
   "source": [
    "### EJERCICIO 54\n",
    "Reemplazar valores mayores que 5 por 5"
   ]
  },
  {
   "cell_type": "code",
   "execution_count": 71,
   "id": "a5402a02",
   "metadata": {},
   "outputs": [
    {
     "name": "stdout",
     "output_type": "stream",
     "text": [
      "[0 1 2 3 4 5 5 5 5 5]\n"
     ]
    }
   ],
   "source": [
    "Z=np.arange(10)\n",
    "Z[Z>5]=5\n",
    "print(Z)"
   ]
  },
  {
   "cell_type": "markdown",
   "id": "52b3e572",
   "metadata": {},
   "source": [
    "### EJERCICIO 55\n",
    "Convertir lista de Python a array"
   ]
  },
  {
   "cell_type": "code",
   "execution_count": 72,
   "id": "b62aef4d",
   "metadata": {},
   "outputs": [
    {
     "name": "stdout",
     "output_type": "stream",
     "text": [
      "[1 2 3 4]\n"
     ]
    }
   ],
   "source": [
    "L=[1,2,3,4]\n",
    "print(np.array(L))"
   ]
  },
  {
   "cell_type": "markdown",
   "id": "6be7adda",
   "metadata": {},
   "source": [
    "### EJERCICIO 56\n",
    "Valores únicos y conteo"
   ]
  },
  {
   "cell_type": "code",
   "execution_count": 73,
   "id": "a8c89c5b",
   "metadata": {},
   "outputs": [
    {
     "name": "stdout",
     "output_type": "stream",
     "text": [
      "(array([1, 2, 3]), array([1, 2, 3]))\n"
     ]
    }
   ],
   "source": [
    "Z=np.array([1,2,2,3,3,3])\n",
    "print(np.unique(Z,return_counts=True))"
   ]
  },
  {
   "cell_type": "markdown",
   "id": "7618c71d",
   "metadata": {},
   "source": [
    "### EJERCICIO 57\n",
    "Crear matriz tridiagonal"
   ]
  },
  {
   "cell_type": "code",
   "execution_count": 74,
   "id": "83935f68",
   "metadata": {},
   "outputs": [
    {
     "name": "stdout",
     "output_type": "stream",
     "text": [
      "[[1. 1. 0. 0. 0.]\n",
      " [1. 1. 1. 0. 0.]\n",
      " [0. 1. 1. 1. 0.]\n",
      " [0. 0. 1. 1. 1.]\n",
      " [0. 0. 0. 1. 1.]]\n"
     ]
    }
   ],
   "source": [
    "n=5\n",
    "A=np.diag(np.ones(n-1),-1)+np.diag(np.ones(n),0)+np.diag(np.ones(n-1),1)\n",
    "print(A)"
   ]
  },
  {
   "cell_type": "markdown",
   "id": "1cb9674c",
   "metadata": {},
   "source": [
    "### EJERCICIO 58\n",
    "Crear vector de enteros 10 a 49"
   ]
  },
  {
   "cell_type": "code",
   "execution_count": 75,
   "id": "ca7b0e29",
   "metadata": {},
   "outputs": [
    {
     "name": "stdout",
     "output_type": "stream",
     "text": [
      "[10 11 12 13 14 15 16 17 18 19 20 21 22 23 24 25 26 27 28 29 30 31 32 33\n",
      " 34 35 36 37 38 39 40 41 42 43 44 45 46 47 48 49]\n"
     ]
    }
   ],
   "source": [
    "print(np.arange(10,50))"
   ]
  },
  {
   "cell_type": "markdown",
   "id": "841831be",
   "metadata": {},
   "source": [
    "### EJERCICIO 59\n",
    "Subsetting y asignación condicional"
   ]
  },
  {
   "cell_type": "code",
   "execution_count": 76,
   "id": "85064845",
   "metadata": {},
   "outputs": [
    {
     "name": "stdout",
     "output_type": "stream",
     "text": [
      "[0 2 4 6 8]\n",
      "[-1  1 -1  3 -1  5 -1  7 -1  9]\n"
     ]
    }
   ],
   "source": [
    "Z=np.arange(10)\n",
    "print(Z[::2])\n",
    "Z[::2]=-1\n",
    "print(Z)"
   ]
  },
  {
   "cell_type": "markdown",
   "id": "57af4021",
   "metadata": {},
   "source": [
    "### EJERCICIO 60\n",
    "Media, varianza y desviación estándar"
   ]
  },
  {
   "cell_type": "code",
   "execution_count": 77,
   "id": "c322c445",
   "metadata": {},
   "outputs": [
    {
     "name": "stdout",
     "output_type": "stream",
     "text": [
      "0.5516684152340879 0.05001766216712691 0.22364628806918954\n"
     ]
    }
   ],
   "source": [
    "Z=np.random.rand(10)\n",
    "print(Z.mean(),Z.var(),Z.std())"
   ]
  },
  {
   "cell_type": "markdown",
   "id": "5f5bc28b",
   "metadata": {},
   "source": [
    "### EJERCICIO 61\n",
    "Broadcasting y potencias"
   ]
  },
  {
   "cell_type": "code",
   "execution_count": 78,
   "id": "af1fe4ad",
   "metadata": {},
   "outputs": [
    {
     "name": "stdout",
     "output_type": "stream",
     "text": [
      "[ 1  4  9 16]\n"
     ]
    }
   ],
   "source": [
    "Z=np.arange(1,5)\n",
    "print(Z**2)"
   ]
  },
  {
   "cell_type": "markdown",
   "id": "7af70647",
   "metadata": {},
   "source": [
    "### EJERCICIO 62\n",
    "Transponer matrices"
   ]
  },
  {
   "cell_type": "code",
   "execution_count": 79,
   "id": "a2f7354d",
   "metadata": {},
   "outputs": [
    {
     "name": "stdout",
     "output_type": "stream",
     "text": [
      "[[0 3]\n",
      " [1 4]\n",
      " [2 5]]\n"
     ]
    }
   ],
   "source": [
    "Z=np.arange(6).reshape(2,3)\n",
    "print(Z.T)"
   ]
  },
  {
   "cell_type": "markdown",
   "id": "b9c63702",
   "metadata": {},
   "source": [
    "### EJERCICIO 63\n",
    "Intercambiar filas y columnas"
   ]
  },
  {
   "cell_type": "code",
   "execution_count": 80,
   "id": "c9df017e",
   "metadata": {},
   "outputs": [
    {
     "name": "stdout",
     "output_type": "stream",
     "text": [
      "[[6 7 8]\n",
      " [0 1 2]\n",
      " [3 4 5]]\n",
      "[[2 0 1]\n",
      " [5 3 4]\n",
      " [8 6 7]]\n"
     ]
    }
   ],
   "source": [
    "Z=np.arange(9).reshape(3,3)\n",
    "print(Z[[2,0,1]])\n",
    "print(Z[:,[2,0,1]])"
   ]
  },
  {
   "cell_type": "markdown",
   "id": "ad558b7e",
   "metadata": {},
   "source": [
    "### EJERCICIO 64\n",
    "Aplanar un array"
   ]
  },
  {
   "cell_type": "code",
   "execution_count": 81,
   "id": "9ae64080",
   "metadata": {},
   "outputs": [
    {
     "name": "stdout",
     "output_type": "stream",
     "text": [
      "[0 1 2 3 4 5]\n"
     ]
    }
   ],
   "source": [
    "Z=np.arange(6).reshape(2,3)\n",
    "print(Z.flatten())"
   ]
  },
  {
   "cell_type": "markdown",
   "id": "f8e1d594",
   "metadata": {},
   "source": [
    "### EJERCICIO 65\n",
    "Crear meshgrid"
   ]
  },
  {
   "cell_type": "code",
   "execution_count": 82,
   "id": "6308f87e",
   "metadata": {},
   "outputs": [
    {
     "name": "stdout",
     "output_type": "stream",
     "text": [
      "(array([[0. , 0.5, 1. ],\n",
      "       [0. , 0.5, 1. ],\n",
      "       [0. , 0.5, 1. ]]), array([[0. , 0. , 0. ],\n",
      "       [0.5, 0.5, 0.5],\n",
      "       [1. , 1. , 1. ]]))\n"
     ]
    }
   ],
   "source": [
    "x=np.linspace(0,1,3)\n",
    "y=np.linspace(0,1,3)\n",
    "print(np.meshgrid(x,y))"
   ]
  },
  {
   "cell_type": "markdown",
   "id": "0518a602",
   "metadata": {},
   "source": [
    "### EJERCICIO 66\n",
    "Extraer centro de matriz"
   ]
  },
  {
   "cell_type": "code",
   "execution_count": 83,
   "id": "5e8b66f9",
   "metadata": {},
   "outputs": [
    {
     "name": "stdout",
     "output_type": "stream",
     "text": [
      "[[ 6  7  8]\n",
      " [11 12 13]\n",
      " [16 17 18]]\n"
     ]
    }
   ],
   "source": [
    "Z=np.arange(25).reshape(5,5)\n",
    "print(Z[1:-1,1:-1])"
   ]
  },
  {
   "cell_type": "markdown",
   "id": "f661ec0b",
   "metadata": {},
   "source": [
    "### EJERCICIO 67\n",
    "Convertir float a int con truncamiento"
   ]
  },
  {
   "cell_type": "code",
   "execution_count": 84,
   "id": "463df57e",
   "metadata": {},
   "outputs": [
    {
     "name": "stdout",
     "output_type": "stream",
     "text": [
      "[0 0 0 0 0]\n"
     ]
    }
   ],
   "source": [
    "Z=np.random.rand(5)\n",
    "print(Z.astype(int))"
   ]
  },
  {
   "cell_type": "markdown",
   "id": "0518b86b",
   "metadata": {},
   "source": [
    "### EJERCICIO 68\n",
    "Invertir bits de array binario"
   ]
  },
  {
   "cell_type": "code",
   "execution_count": 85,
   "id": "2737376a",
   "metadata": {},
   "outputs": [
    {
     "name": "stdout",
     "output_type": "stream",
     "text": [
      "[0 1 0 1]\n"
     ]
    }
   ],
   "source": [
    "Z=np.array([1,0,1,0])\n",
    "print(1-Z)"
   ]
  },
  {
   "cell_type": "markdown",
   "id": "d7d04d85",
   "metadata": {},
   "source": [
    "### EJERCICO 69\n",
    "Suma acumulada"
   ]
  },
  {
   "cell_type": "code",
   "execution_count": 86,
   "id": "2e6db714",
   "metadata": {},
   "outputs": [
    {
     "name": "stdout",
     "output_type": "stream",
     "text": [
      "[ 0  1  3  6 10]\n"
     ]
    }
   ],
   "source": [
    "Z=np.arange(5)\n",
    "print(Z.cumsum())"
   ]
  },
  {
   "cell_type": "markdown",
   "id": "74d54791",
   "metadata": {},
   "source": [
    "### EJERCICIO 70\n",
    "Producto acumulado"
   ]
  },
  {
   "cell_type": "code",
   "execution_count": 87,
   "id": "2050eacc",
   "metadata": {},
   "outputs": [
    {
     "name": "stdout",
     "output_type": "stream",
     "text": [
      "[ 1  2  6 24]\n"
     ]
    }
   ],
   "source": [
    "Z=np.arange(1,5)\n",
    "print(Z.cumprod())"
   ]
  },
  {
   "cell_type": "markdown",
   "id": "0655a2f4",
   "metadata": {},
   "source": [
    "### EJERCICIO 71\n",
    "Producto punto entre vectores"
   ]
  },
  {
   "cell_type": "code",
   "execution_count": 88,
   "id": "7e37ee19",
   "metadata": {},
   "outputs": [
    {
     "name": "stdout",
     "output_type": "stream",
     "text": [
      "11\n"
     ]
    }
   ],
   "source": [
    "A=np.array([1,2]);B=np.array([3,4])\n",
    "print(np.dot(A,B))"
   ]
  },
  {
   "cell_type": "markdown",
   "id": "0a841022",
   "metadata": {},
   "source": [
    "### EJERCICIO 72\n",
    "Determinante de 3×3"
   ]
  },
  {
   "cell_type": "code",
   "execution_count": 89,
   "id": "a943d985",
   "metadata": {},
   "outputs": [
    {
     "name": "stdout",
     "output_type": "stream",
     "text": [
      "0.22320269292452083\n"
     ]
    }
   ],
   "source": [
    "A=np.random.rand(3,3)\n",
    "print(np.linalg.det(A))"
   ]
  },
  {
   "cell_type": "markdown",
   "id": "2d0d1b20",
   "metadata": {},
   "source": [
    "### EJERCICIO 73\n",
    "Inversa de matriz"
   ]
  },
  {
   "cell_type": "code",
   "execution_count": 90,
   "id": "b79da877",
   "metadata": {},
   "outputs": [
    {
     "name": "stdout",
     "output_type": "stream",
     "text": [
      "[[1. 0. 0.]\n",
      " [0. 1. 0.]\n",
      " [0. 0. 1.]]\n"
     ]
    }
   ],
   "source": [
    "A=np.eye(3);\n",
    "print(np.linalg.inv(A))"
   ]
  },
  {
   "cell_type": "markdown",
   "id": "be6f60c3",
   "metadata": {},
   "source": [
    "### EJERCICIO 74\n",
    "Resolver sistema lineal Ax=b"
   ]
  },
  {
   "cell_type": "code",
   "execution_count": 91,
   "id": "8342dc20",
   "metadata": {},
   "outputs": [
    {
     "name": "stdout",
     "output_type": "stream",
     "text": [
      "[ 1.90160436  1.61155024 -2.03918787]\n"
     ]
    }
   ],
   "source": [
    "A=np.random.rand(3,3);b=np.random.rand(3)\n",
    "print(np.linalg.solve(A,b))"
   ]
  },
  {
   "cell_type": "markdown",
   "id": "f0548636",
   "metadata": {},
   "source": [
    "### EJERCICIO 75\n",
    "Covarianza y correlación"
   ]
  },
  {
   "cell_type": "code",
   "execution_count": 92,
   "id": "0dc91eeb",
   "metadata": {},
   "outputs": [
    {
     "name": "stdout",
     "output_type": "stream",
     "text": [
      "[[ 0.10911809  0.02715343 -0.01569166]\n",
      " [ 0.02715343  0.08719828  0.00998084]\n",
      " [-0.01569166  0.00998084  0.12346458]]\n",
      "[[ 1.          0.27836998 -0.13519152]\n",
      " [ 0.27836998  1.          0.0961927 ]\n",
      " [-0.13519152  0.0961927   1.        ]]\n"
     ]
    }
   ],
   "source": [
    "X=np.random.rand(3,10)\n",
    "print(np.cov(X))\n",
    "print(np.corrcoef(X))"
   ]
  },
  {
   "cell_type": "markdown",
   "id": "159efcea",
   "metadata": {},
   "source": [
    "### EJERCICIO 76\n",
    "Histograma de datos"
   ]
  },
  {
   "cell_type": "code",
   "execution_count": 93,
   "id": "bfcef5f3",
   "metadata": {},
   "outputs": [
    {
     "name": "stdout",
     "output_type": "stream",
     "text": [
      "(array([  6,  11,  56, 166, 231, 219, 159, 105,  38,   9]), array([-3.24053611, -2.61558322, -1.99063033, -1.36567744, -0.74072456,\n",
      "       -0.11577167,  0.50918122,  1.13413411,  1.759087  ,  2.38403989,\n",
      "        3.00899278]))\n"
     ]
    }
   ],
   "source": [
    "Z=np.random.randn(1000)\n",
    "print(np.histogram(Z,bins=10))"
   ]
  },
  {
   "cell_type": "markdown",
   "id": "e67a78bf",
   "metadata": {},
   "source": [
    "### EJERCICIO 77\n",
    "Concatenar arrays"
   ]
  },
  {
   "cell_type": "code",
   "execution_count": 94,
   "id": "b11e5316",
   "metadata": {},
   "outputs": [
    {
     "name": "stdout",
     "output_type": "stream",
     "text": [
      "[[1. 1. 1.]\n",
      " [1. 1. 1.]\n",
      " [0. 0. 0.]\n",
      " [0. 0. 0.]]\n"
     ]
    }
   ],
   "source": [
    "A=np.ones((2,3));B=np.zeros((2,3))\n",
    "print(np.concatenate([A,B],axis=0))"
   ]
  },
  {
   "cell_type": "markdown",
   "id": "5c55e213",
   "metadata": {},
   "source": [
    "### EJERCICIO 78\n",
    "Stack vertical y horizontal"
   ]
  },
  {
   "cell_type": "code",
   "execution_count": 95,
   "id": "afa4c592",
   "metadata": {},
   "outputs": [
    {
     "name": "stdout",
     "output_type": "stream",
     "text": [
      "[[1. 1. 1.]\n",
      " [1. 1. 1.]\n",
      " [0. 0. 0.]\n",
      " [0. 0. 0.]] [[1. 1. 1. 0. 0. 0.]\n",
      " [1. 1. 1. 0. 0. 0.]]\n"
     ]
    }
   ],
   "source": [
    "A=np.ones((2,3));B=np.zeros((2,3))\n",
    "print(np.vstack([A,B]),np.hstack([A,B]))"
   ]
  },
  {
   "cell_type": "markdown",
   "id": "36ceb545",
   "metadata": {},
   "source": [
    "### EJERCICIO 79\n",
    "Dividir con hsplit"
   ]
  },
  {
   "cell_type": "code",
   "execution_count": 96,
   "id": "153e08f3",
   "metadata": {},
   "outputs": [
    {
     "name": "stdout",
     "output_type": "stream",
     "text": [
      "[array([[ 0,  1],\n",
      "       [ 4,  5],\n",
      "       [ 8,  9],\n",
      "       [12, 13]]), array([[ 2,  3],\n",
      "       [ 6,  7],\n",
      "       [10, 11],\n",
      "       [14, 15]])]\n"
     ]
    }
   ],
   "source": [
    "Z=np.arange(16).reshape(4,4)\n",
    "print(np.hsplit(Z,2))"
   ]
  },
  {
   "cell_type": "markdown",
   "id": "b7201727",
   "metadata": {},
   "source": [
    "### EJERCICIO 80\n",
    "Indexación booleana"
   ]
  },
  {
   "cell_type": "code",
   "execution_count": 97,
   "id": "e6d96661",
   "metadata": {},
   "outputs": [
    {
     "name": "stdout",
     "output_type": "stream",
     "text": [
      "[0 2 4 6 8]\n"
     ]
    }
   ],
   "source": [
    "Z=np.arange(10)\n",
    "print(Z[Z%2==0])"
   ]
  },
  {
   "cell_type": "markdown",
   "id": "b0f4e55e",
   "metadata": {},
   "source": [
    "### EJERCICIO 81\n",
    "Indexación fancy"
   ]
  },
  {
   "cell_type": "code",
   "execution_count": 98,
   "id": "2edc4225",
   "metadata": {},
   "outputs": [
    {
     "name": "stdout",
     "output_type": "stream",
     "text": [
      "[2 5 7]\n"
     ]
    }
   ],
   "source": [
    "Z=np.arange(10)\n",
    "print(Z[[2,5,7]])"
   ]
  },
  {
   "cell_type": "markdown",
   "id": "e0b382e9",
   "metadata": {},
   "source": [
    "### EJERCICIO 82\n",
    "Unique con retorno de índices"
   ]
  },
  {
   "cell_type": "code",
   "execution_count": 99,
   "id": "f737a98a",
   "metadata": {},
   "outputs": [
    {
     "name": "stdout",
     "output_type": "stream",
     "text": [
      "(array([1, 2, 3]), array([0, 1, 3]))\n"
     ]
    }
   ],
   "source": [
    "Z=np.array([1,2,2,3,3])\n",
    "print(np.unique(Z,return_index=True))"
   ]
  },
  {
   "cell_type": "markdown",
   "id": "6779dfd9",
   "metadata": {},
   "source": [
    "### EJERCICIO 83\n",
    "Nonzero en matriz 2D"
   ]
  },
  {
   "cell_type": "code",
   "execution_count": 100,
   "id": "155a7cd8",
   "metadata": {},
   "outputs": [
    {
     "name": "stdout",
     "output_type": "stream",
     "text": [
      "(array([0, 1]), array([0, 1]))\n"
     ]
    }
   ],
   "source": [
    "Z=np.array([[1,0],[0,1]])\n",
    "print(np.nonzero(Z))"
   ]
  },
  {
   "cell_type": "markdown",
   "id": "7c7edeaf",
   "metadata": {},
   "source": [
    "### EJERCICIO 84\n",
    "Matriz identidad con desplazamiento k"
   ]
  },
  {
   "cell_type": "code",
   "execution_count": 101,
   "id": "0933d166",
   "metadata": {},
   "outputs": [
    {
     "name": "stdout",
     "output_type": "stream",
     "text": [
      "[[0. 1. 0. 0.]\n",
      " [0. 0. 1. 0.]\n",
      " [0. 0. 0. 1.]\n",
      " [0. 0. 0. 0.]]\n"
     ]
    }
   ],
   "source": [
    "print(np.eye(4,k=1))"
   ]
  },
  {
   "cell_type": "markdown",
   "id": "0cbf5806",
   "metadata": {},
   "source": [
    "### EJERCICIO 85\n",
    "Bordes ceros centro unos"
   ]
  },
  {
   "cell_type": "code",
   "execution_count": 102,
   "id": "75626861",
   "metadata": {},
   "outputs": [
    {
     "name": "stdout",
     "output_type": "stream",
     "text": [
      "[[1. 1. 1. 1. 1.]\n",
      " [1. 0. 0. 0. 1.]\n",
      " [1. 0. 0. 0. 1.]\n",
      " [1. 0. 0. 0. 1.]\n",
      " [1. 1. 1. 1. 1.]]\n"
     ]
    }
   ],
   "source": [
    "Z=np.ones((5,5));Z[1:-1,1:-1]=0\n",
    "print(Z)"
   ]
  },
  {
   "cell_type": "markdown",
   "id": "04ecaf84",
   "metadata": {},
   "source": [
    "### EJERCICIO 86\n",
    "Permutar aleatoriamente elementos"
   ]
  },
  {
   "cell_type": "code",
   "execution_count": 103,
   "id": "3c8d6fcb",
   "metadata": {},
   "outputs": [
    {
     "name": "stdout",
     "output_type": "stream",
     "text": [
      "[7 2 6 3 1 8 5 9 4 0]\n"
     ]
    }
   ],
   "source": [
    "Z=np.arange(10)\n",
    "print(np.random.permutation(Z))"
   ]
  },
  {
   "cell_type": "markdown",
   "id": "599ed4be",
   "metadata": {},
   "source": [
    "### EJERCICIO 87\n",
    "Establecer diagonal principal"
   ]
  },
  {
   "cell_type": "code",
   "execution_count": 104,
   "id": "f0971fe5",
   "metadata": {},
   "outputs": [
    {
     "name": "stdout",
     "output_type": "stream",
     "text": [
      "[[5. 0. 0. 0.]\n",
      " [0. 5. 0. 0.]\n",
      " [0. 0. 5. 0.]\n",
      " [0. 0. 0. 5.]]\n"
     ]
    }
   ],
   "source": [
    "Z=np.zeros((4,4));np.fill_diagonal(Z,5)\n",
    "print(Z)"
   ]
  },
  {
   "cell_type": "markdown",
   "id": "6e4395e8",
   "metadata": {},
   "source": [
    "### EJERCICIO 88\n",
    "Extraer diagonal"
   ]
  },
  {
   "cell_type": "code",
   "execution_count": 105,
   "id": "f53236e3",
   "metadata": {},
   "outputs": [
    {
     "name": "stdout",
     "output_type": "stream",
     "text": [
      "[0 4 8]\n"
     ]
    }
   ],
   "source": [
    "Z=np.arange(9).reshape(3,3)\n",
    "print(np.diag(Z))"
   ]
  },
  {
   "cell_type": "markdown",
   "id": "d5899b50",
   "metadata": {},
   "source": [
    "### EJERCICIO 89\n",
    "Matriz tridiagonal"
   ]
  },
  {
   "cell_type": "code",
   "execution_count": 106,
   "id": "c45c9a56",
   "metadata": {},
   "outputs": [
    {
     "name": "stdout",
     "output_type": "stream",
     "text": [
      "[[1. 1. 0. 0. 0.]\n",
      " [1. 1. 1. 0. 0.]\n",
      " [0. 1. 1. 1. 0.]\n",
      " [0. 0. 1. 1. 1.]\n",
      " [0. 0. 0. 1. 1.]]\n"
     ]
    }
   ],
   "source": [
    "def tri(n):\n",
    "    A=np.zeros((n,n));\n",
    "    for i in range(n):\n",
    "        for j in [i-1,i,i+1]:\n",
    "            if 0<=j<n: A[i,j]=1\n",
    "    return A\n",
    "print(tri(5))"
   ]
  },
  {
   "cell_type": "markdown",
   "id": "e1bbf0ef",
   "metadata": {},
   "source": [
    "### EJERCICIO 90\n",
    "Uniform random ints entre 0 y 10"
   ]
  },
  {
   "cell_type": "code",
   "execution_count": 107,
   "id": "5c2e54b2",
   "metadata": {},
   "outputs": [
    {
     "name": "stdout",
     "output_type": "stream",
     "text": [
      "[5 5 5 4 8 7 6 2 3 5]\n"
     ]
    }
   ],
   "source": [
    "print(np.random.randint(0,10,10))"
   ]
  },
  {
   "cell_type": "markdown",
   "id": "c37af80f",
   "metadata": {},
   "source": [
    "### EJERCICIO 91\n",
    "Distribución geométrica"
   ]
  },
  {
   "cell_type": "code",
   "execution_count": 108,
   "id": "6f114042",
   "metadata": {},
   "outputs": [
    {
     "name": "stdout",
     "output_type": "stream",
     "text": [
      "[ 8  6  2  1  1  2  2 12  1  1]\n"
     ]
    }
   ],
   "source": [
    "print(np.random.geometric(p=0.3, size=10))"
   ]
  },
  {
   "cell_type": "markdown",
   "id": "00b8a282",
   "metadata": {},
   "source": [
    "### EJERCICIO 92\n",
    "Distribución normal"
   ]
  },
  {
   "cell_type": "code",
   "execution_count": 109,
   "id": "8e57695a",
   "metadata": {},
   "outputs": [
    {
     "name": "stdout",
     "output_type": "stream",
     "text": [
      "[ 1.20082332 -0.83629427 -0.66199822  1.15138774  1.40849157  0.96900695\n",
      "  0.09562829 -0.99106333 -0.45306718 -0.69059512]\n"
     ]
    }
   ],
   "source": [
    "print(np.random.normal(loc=0,scale=1,size=10))"
   ]
  },
  {
   "cell_type": "markdown",
   "id": "93b9d965",
   "metadata": {},
   "source": [
    "### EJERCICIO 93\n",
    "Elegir elementos aleatorios de lista"
   ]
  },
  {
   "cell_type": "code",
   "execution_count": 110,
   "id": "11782a53",
   "metadata": {},
   "outputs": [
    {
     "name": "stdout",
     "output_type": "stream",
     "text": [
      "[5 3 2 1 4]\n"
     ]
    }
   ],
   "source": [
    "print(np.random.choice([1,2,3,4,5], size=5))"
   ]
  },
  {
   "cell_type": "markdown",
   "id": "99b9e52e",
   "metadata": {},
   "source": [
    "### EJERCICIO 94\n",
    "Barajar filas de matriz"
   ]
  },
  {
   "cell_type": "code",
   "execution_count": 111,
   "id": "5f84b4c5",
   "metadata": {},
   "outputs": [
    {
     "name": "stdout",
     "output_type": "stream",
     "text": [
      "[[0 1 2]\n",
      " [6 7 8]\n",
      " [3 4 5]]\n"
     ]
    }
   ],
   "source": [
    "Z=np.arange(9).reshape(3,3)\n",
    "np.random.shuffle(Z)\n",
    "print(Z)"
   ]
  },
  {
   "cell_type": "markdown",
   "id": "cea14200",
   "metadata": {},
   "source": [
    "### EJERCICIO 95\n",
    "Añadir filas a matriz"
   ]
  },
  {
   "cell_type": "code",
   "execution_count": 112,
   "id": "a04dfdd5",
   "metadata": {},
   "outputs": [
    {
     "name": "stdout",
     "output_type": "stream",
     "text": [
      "[[1. 1. 1.]\n",
      " [1. 1. 1.]\n",
      " [1. 1. 1.]\n",
      " [1. 1. 1.]]\n"
     ]
    }
   ],
   "source": [
    "Z=np.ones((2,3));\n",
    "print (np.vstack([Z,Z]))"
   ]
  },
  {
   "cell_type": "markdown",
   "id": "66694465",
   "metadata": {},
   "source": [
    "### EJERCICIO 96\n",
    "Eliminar columna"
   ]
  },
  {
   "cell_type": "code",
   "execution_count": 113,
   "id": "6f290e40",
   "metadata": {},
   "outputs": [
    {
     "name": "stdout",
     "output_type": "stream",
     "text": [
      "[[0 2]\n",
      " [3 5]\n",
      " [6 8]]\n"
     ]
    }
   ],
   "source": [
    "Z=np.arange(9).reshape(3,3)\n",
    "print(np.delete(Z,1,axis=1))"
   ]
  },
  {
   "cell_type": "markdown",
   "id": "6ceb0080",
   "metadata": {},
   "source": [
    "### EJERCICIO 97\n",
    "Insertar columna"
   ]
  },
  {
   "cell_type": "code",
   "execution_count": 114,
   "id": "1409eaa1",
   "metadata": {},
   "outputs": [
    {
     "name": "stdout",
     "output_type": "stream",
     "text": [
      "[[0 5 1 2]\n",
      " [3 5 4 5]\n",
      " [6 5 7 8]]\n"
     ]
    }
   ],
   "source": [
    "Z=np.arange(9).reshape(3,3)\n",
    "print(np.insert(Z,1,5,axis=1))"
   ]
  },
  {
   "cell_type": "markdown",
   "id": "3fec4f4b",
   "metadata": {},
   "source": [
    "### EJERCICIO 98\n",
    "Ordenar filas"
   ]
  },
  {
   "cell_type": "code",
   "execution_count": 115,
   "id": "fe8d2d14",
   "metadata": {},
   "outputs": [
    {
     "name": "stdout",
     "output_type": "stream",
     "text": [
      "[[2 2 6]\n",
      " [2 7 9]\n",
      " [2 3 9]]\n"
     ]
    }
   ],
   "source": [
    "Z=np.random.randint(0,10,(3,3))\n",
    "print(np.sort(Z,axis=1))"
   ]
  },
  {
   "cell_type": "markdown",
   "id": "e45a3781",
   "metadata": {},
   "source": [
    "### EJERCICIO 99\n",
    "Lexsort con dos columnas"
   ]
  },
  {
   "cell_type": "code",
   "execution_count": 116,
   "id": "cffff94c",
   "metadata": {},
   "outputs": [
    {
     "name": "stdout",
     "output_type": "stream",
     "text": [
      "[1 2 0]\n"
     ]
    }
   ],
   "source": [
    "A=np.array([3,1,2]);B=np.array([9,8,7])\n",
    "print(np.lexsort((B,A)))"
   ]
  },
  {
   "cell_type": "markdown",
   "id": "fd190bea",
   "metadata": {},
   "source": [
    "### EJERCICIO 100\n",
    "Obtener submatriz de esquina superior"
   ]
  },
  {
   "cell_type": "code",
   "execution_count": 117,
   "id": "eb811c18",
   "metadata": {},
   "outputs": [
    {
     "name": "stdout",
     "output_type": "stream",
     "text": [
      "[[0 1]\n",
      " [4 5]]\n"
     ]
    }
   ],
   "source": [
    "Z=np.arange(16).reshape(4,4)\n",
    "print(Z[:2,:2])"
   ]
  }
 ],
 "metadata": {
  "kernelspec": {
   "display_name": ".venv",
   "language": "python",
   "name": "python3"
  },
  "language_info": {
   "codemirror_mode": {
    "name": "ipython",
    "version": 3
   },
   "file_extension": ".py",
   "mimetype": "text/x-python",
   "name": "python",
   "nbconvert_exporter": "python",
   "pygments_lexer": "ipython3",
   "version": "3.12.1"
  }
 },
 "nbformat": 4,
 "nbformat_minor": 5
}
